{
 "cells": [
  {
   "cell_type": "markdown",
   "metadata": {},
   "source": [
    "# Assignment 1\n",
    "* Student name: ALEXANDRA kUZNETSOVA\n",
    "* Student number: 11379758\n",
    "* Date: 22.03.2019\n",
    "* Wordcount: (1405)"
   ]
  },
  {
   "cell_type": "markdown",
   "metadata": {},
   "source": [
    "## Introduction"
   ]
  },
  {
   "cell_type": "markdown",
   "metadata": {},
   "source": [
    "During the last couple of years Tesla company has been experiencing the rapid growth in sales (Growth in Tesla, 2018). In case of Tesla company where every car is made on demand, we can argue that Say’s rule is valid. This means that demand creates supply, and the greater demand means growth in popularity of the brand (Ackley, 1961). However, despite this sales growth Tesla stock graph shows very unpleasant wavy tendency (Nasdaq). A lot of specialists and mere consumers connect these declines with Elon Musk twitter posts (Wolverton, 2019; Davis, 2019). They argue that Musk’s style of communication with unpredictable tweets harms not only Tesla company stocks but also negatively affects the image of Tesla company in the eyes of its customers (Fleishman, 2018; Ferris, 2018).\n",
    "\n",
    "To help Tesla company to pick up the best communication strategy and to better understand whether it is necessary to control what appears in Elon Musk twitter account (Ohnsman, 2019; Neate, 2019) I formulate the following research question:\n",
    "\n",
    "RQ. How does the information source on Twitter affect customer engagement and to what extent customer approval relates to stock price?\n",
    "\n",
    "Words count: 186\n"
   ]
  },
  {
   "cell_type": "markdown",
   "metadata": {},
   "source": [
    "## Hypotheses"
   ]
  },
  {
   "cell_type": "markdown",
   "metadata": {},
   "source": [
    "Customer engagement in social media depend on the level of satisfaction of customer with the content which specific brand’s information source provides. The main components of customer engagement in social media is likes and retweets (Boyd et al., 2010). Bucher (2012) found that the level of engagement is the main indicator of post reach. Summing up these two studies we get that the more people are involved and care what appears in post than the higher level of engagement, and the source with the higher level of engagement has the higher level of reach. The level of engagement in social media is also define the level of influence of the information source (Booth & Matic, 2011). Studies also show that the possibility of influence of particular individual on brand is possible but in case when this person is associated with the brand and transferred its own traits of personality directly to the brand (McCracken 1989; Aaker, 1997).To find out which informational source has higher level of engagement and therefore influence I formulate the following hypothesis:\n",
    "\n",
    "H1. Tweets from Elon Musk about Tesla receive more customer engagement on Twitter than tweets from the official Tesla account.\n",
    "\n",
    "If the above stated hypothesis is true and Elon Musk is more influential in social media it may appears that indeed Tesla stock prices and therefore success may be associated with Elon Musk more than with Tesla company. Williams and Naumann (2011) argue there is significant association between customer approval and company performance. The level of approval is more reasonable to measure only with the number of likes because people who make retweets do not always support and approve the initial post conten, but rather opposite.\n",
    "\n",
    "H2. The Tesla company stock prices positively relate to the level of approval of Elon Musk tweets. \n",
    "\n",
    "Words count : 271\n"
   ]
  },
  {
   "cell_type": "markdown",
   "metadata": {},
   "source": [
    "## Gathering data\n",
    "### Import libraries and initialize API\n",
    "\n"
   ]
  },
  {
   "cell_type": "code",
   "execution_count": 1,
   "metadata": {},
   "outputs": [],
   "source": [
    "import tweepy\n",
    "from vaderSentiment.vaderSentiment import SentimentIntensityAnalyzer\n",
    "import pandas as pd\n",
    "import seaborn as sns\n",
    "sns.set(style='whitegrid', palette='deep', font_scale=1.1, rc={'figure.figsize': [16, 8]})\n",
    "import numpy as np\n",
    "import json"
   ]
  },
  {
   "cell_type": "markdown",
   "metadata": {},
   "source": [
    "As I collect a relatively big amount of data I am going to save all data in json. This is because it performs much faster in loadings than files saved in pickle. (Pickle vs JSON, 2010)"
   ]
  },
  {
   "cell_type": "code",
   "execution_count": 2,
   "metadata": {},
   "outputs": [],
   "source": [
    "name_tesla = 'Tesla'\n",
    "name_musk = 'elonmusk'\n",
    "\n",
    "consumer_key = '5NTdgEYyu0ikbduFxjPJconG0'\n",
    "consumer_secret = 'RhoB2yyWl8L6mS3EmSEzCoMGlPsMX1z3XKQ0j2MXAagHwzU6yU'\n",
    "\n",
    "oauth_token = '4227898119-lQpkWMTn4mUPxNX9kPpoHbWlRJsmjsAzPwUHyZ8'\n",
    "oauth_token_secret = 'hp9Ga2IuDfPMGV2j56EfddLmaIrTP7BbgIWcurOXVaVY7'\n",
    "\n",
    "auth = tweepy.OAuthHandler(consumer_key, consumer_secret)\n",
    "auth.set_access_token(oauth_token, oauth_token_secret)\n",
    "\n",
    "# the are rate limits for the frequency of API calls for twitter, \n",
    "# wait_on_rate_limit flag helps us not to worry about it while collecting the data\n",
    "api = tweepy.API(auth)#, wait_on_rate_limit=True, wait_on_rate_limit_notify=True)"
   ]
  },
  {
   "cell_type": "markdown",
   "metadata": {},
   "source": [
    "### Collect tweets for the Hypothesis 1\n",
    "The data for the first hypothesis were collected with Twitter API’s. User_timeline allows us to collect only last 3200 tweets what is enough for our study (Get Tweet timelines, 2017). Tweets were collected from public Twitter account of Tesla car company ‘@Tesla’ and from verified account of Elon Musk ‘@elonmusk’. To collect this sort of data we had to use tokens and secret keys which are personal information, therefore it is impossible to publish the full code in this paper. We chose to use last 3200 tweets for the analyzation because firstly it allows us to form more clean data frame without extra cleaning and from specific accounts. Secondly, these tweets are from the past what is important for data generalization. The data were collected collected on 10th of March 2019 and stored in the sasharomanna GitHub personal repository.\n"
   ]
  },
  {
   "cell_type": "code",
   "execution_count": 10,
   "metadata": {},
   "outputs": [],
   "source": [
    "tweets_tesla = []\n",
    "for status in tweepy.Cursor(api.user_timeline, screen_name=name_tesla, tweet_mode='extended').items():\n",
    "    tweets_tesla.append(status._json)"
   ]
  },
  {
   "cell_type": "code",
   "execution_count": 11,
   "metadata": {},
   "outputs": [
    {
     "data": {
      "text/plain": [
       "3203"
      ]
     },
     "execution_count": 11,
     "metadata": {},
     "output_type": "execute_result"
    }
   ],
   "source": [
    "len(tweets_tesla)"
   ]
  },
  {
   "cell_type": "code",
   "execution_count": 70,
   "metadata": {},
   "outputs": [],
   "source": [
    "file = open('tweets_tesla.json', 'w', encoding='utf8')\n",
    "json.dump(tweets_tesla, file, indent=2)\n",
    "file.close()"
   ]
  },
  {
   "cell_type": "code",
   "execution_count": 14,
   "metadata": {},
   "outputs": [],
   "source": [
    "tweets_musk = []\n",
    "for status in tweepy.Cursor(api.user_timeline, screen_name=name_musk, tweet_mode='extended').items():\n",
    "    tweets_musk.append(status._json)"
   ]
  },
  {
   "cell_type": "code",
   "execution_count": 15,
   "metadata": {},
   "outputs": [
    {
     "data": {
      "text/plain": [
       "3219"
      ]
     },
     "execution_count": 15,
     "metadata": {},
     "output_type": "execute_result"
    }
   ],
   "source": [
    "len(tweets_musk)"
   ]
  },
  {
   "cell_type": "code",
   "execution_count": 71,
   "metadata": {},
   "outputs": [],
   "source": [
    "file = open('tweets_musk.json', 'w', encoding='utf8')\n",
    "json.dump(tweets_musk, file, indent=2)\n",
    "file.close()"
   ]
  },
  {
   "cell_type": "markdown",
   "metadata": {},
   "source": [
    "Reading collected data if it has been collected already"
   ]
  },
  {
   "cell_type": "code",
   "execution_count": 4,
   "metadata": {},
   "outputs": [],
   "source": [
    "file = open('tweets_tesla.json', 'r', encoding='utf8')\n",
    "tweets_tesla = json.load(file)\n",
    "file.close()"
   ]
  },
  {
   "cell_type": "code",
   "execution_count": 5,
   "metadata": {},
   "outputs": [],
   "source": [
    "file = open('tweets_musk.json', 'r', encoding='utf8')\n",
    "tweets_musk = json.load(file)\n",
    "file.close()"
   ]
  },
  {
   "cell_type": "markdown",
   "metadata": {},
   "source": [
    "#### Making the dataframes for Tesla and Musk tweets, fill the data"
   ]
  },
  {
   "cell_type": "code",
   "execution_count": 6,
   "metadata": {
    "scrolled": true
   },
   "outputs": [
    {
     "data": {
      "text/html": [
       "<div>\n",
       "<style scoped>\n",
       "    .dataframe tbody tr th:only-of-type {\n",
       "        vertical-align: middle;\n",
       "    }\n",
       "\n",
       "    .dataframe tbody tr th {\n",
       "        vertical-align: top;\n",
       "    }\n",
       "\n",
       "    .dataframe thead th {\n",
       "        text-align: right;\n",
       "    }\n",
       "</style>\n",
       "<table border=\"1\" class=\"dataframe\">\n",
       "  <thead>\n",
       "    <tr style=\"text-align: right;\">\n",
       "      <th></th>\n",
       "      <th>Text</th>\n",
       "      <th>len</th>\n",
       "      <th>id</th>\n",
       "      <th>Date</th>\n",
       "      <th>Likes</th>\n",
       "      <th>RTs</th>\n",
       "    </tr>\n",
       "  </thead>\n",
       "  <tbody>\n",
       "    <tr>\n",
       "      <th>3198</th>\n",
       "      <td>@JaredBanyard Thanks for the feedback, Jared. ...</td>\n",
       "      <td>65</td>\n",
       "      <td>454049902494875648</td>\n",
       "      <td>Thu Apr 10 00:15:07 +0000 2014</td>\n",
       "      <td>2</td>\n",
       "      <td>0</td>\n",
       "    </tr>\n",
       "    <tr>\n",
       "      <th>3199</th>\n",
       "      <td>@yodirkx Fixed. Thank you for the feedback.</td>\n",
       "      <td>43</td>\n",
       "      <td>454034919199473664</td>\n",
       "      <td>Wed Apr 09 23:15:34 +0000 2014</td>\n",
       "      <td>3</td>\n",
       "      <td>0</td>\n",
       "    </tr>\n",
       "    <tr>\n",
       "      <th>3200</th>\n",
       "      <td>When life gives you lemons… http://t.co/1TrjvP...</td>\n",
       "      <td>50</td>\n",
       "      <td>453997981990002688</td>\n",
       "      <td>Wed Apr 09 20:48:48 +0000 2014</td>\n",
       "      <td>434</td>\n",
       "      <td>345</td>\n",
       "    </tr>\n",
       "    <tr>\n",
       "      <th>3201</th>\n",
       "      <td>@kristinecrook You can see our closest stores ...</td>\n",
       "      <td>137</td>\n",
       "      <td>453975455926734848</td>\n",
       "      <td>Wed Apr 09 19:19:17 +0000 2014</td>\n",
       "      <td>3</td>\n",
       "      <td>0</td>\n",
       "    </tr>\n",
       "    <tr>\n",
       "      <th>3202</th>\n",
       "      <td>@kristinecrook Wait until you sit in one!</td>\n",
       "      <td>41</td>\n",
       "      <td>453974774687879168</td>\n",
       "      <td>Wed Apr 09 19:16:35 +0000 2014</td>\n",
       "      <td>1</td>\n",
       "      <td>0</td>\n",
       "    </tr>\n",
       "  </tbody>\n",
       "</table>\n",
       "</div>"
      ],
      "text/plain": [
       "                                                   Text  len  \\\n",
       "3198  @JaredBanyard Thanks for the feedback, Jared. ...   65   \n",
       "3199        @yodirkx Fixed. Thank you for the feedback.   43   \n",
       "3200  When life gives you lemons… http://t.co/1TrjvP...   50   \n",
       "3201  @kristinecrook You can see our closest stores ...  137   \n",
       "3202          @kristinecrook Wait until you sit in one!   41   \n",
       "\n",
       "                      id                            Date  Likes  RTs  \n",
       "3198  454049902494875648  Thu Apr 10 00:15:07 +0000 2014      2    0  \n",
       "3199  454034919199473664  Wed Apr 09 23:15:34 +0000 2014      3    0  \n",
       "3200  453997981990002688  Wed Apr 09 20:48:48 +0000 2014    434  345  \n",
       "3201  453975455926734848  Wed Apr 09 19:19:17 +0000 2014      3    0  \n",
       "3202  453974774687879168  Wed Apr 09 19:16:35 +0000 2014      1    0  "
      ]
     },
     "execution_count": 6,
     "metadata": {},
     "output_type": "execute_result"
    }
   ],
   "source": [
    "#Making dataframe for Tesla tweets\n",
    "df_tesla = pd.DataFrame(data=[tweet['full_text'] for tweet in tweets_tesla], columns=['Text'])\n",
    "\n",
    "df_tesla['len'] = np.array([len(tweet['full_text']) for tweet in tweets_tesla])\n",
    "df_tesla['id'] = np.array([tweet['id'] for tweet in tweets_tesla])\n",
    "df_tesla['Date'] = np.array([tweet['created_at'] for tweet in tweets_tesla])\n",
    "df_tesla['Likes'] = np.array([tweet['favorite_count'] for tweet in tweets_tesla])\n",
    "df_tesla['RTs'] = np.array([tweet['retweet_count'] for tweet in tweets_tesla])\n",
    "\n",
    "df_tesla.tail()"
   ]
  },
  {
   "cell_type": "code",
   "execution_count": 7,
   "metadata": {},
   "outputs": [
    {
     "data": {
      "text/plain": [
       "Index(['Text', 'len', 'id', 'Date', 'Likes', 'RTs'], dtype='object')"
      ]
     },
     "execution_count": 7,
     "metadata": {},
     "output_type": "execute_result"
    }
   ],
   "source": [
    "#Checking the columns\n",
    "df_tesla.columns"
   ]
  },
  {
   "cell_type": "code",
   "execution_count": 8,
   "metadata": {
    "scrolled": true
   },
   "outputs": [
    {
     "data": {
      "text/html": [
       "<div>\n",
       "<style scoped>\n",
       "    .dataframe tbody tr th:only-of-type {\n",
       "        vertical-align: middle;\n",
       "    }\n",
       "\n",
       "    .dataframe tbody tr th {\n",
       "        vertical-align: top;\n",
       "    }\n",
       "\n",
       "    .dataframe thead th {\n",
       "        text-align: right;\n",
       "    }\n",
       "</style>\n",
       "<table border=\"1\" class=\"dataframe\">\n",
       "  <thead>\n",
       "    <tr style=\"text-align: right;\">\n",
       "      <th></th>\n",
       "      <th>Text</th>\n",
       "      <th>len</th>\n",
       "      <th>id</th>\n",
       "      <th>Date</th>\n",
       "      <th>Likes</th>\n",
       "      <th>RTs</th>\n",
       "    </tr>\n",
       "  </thead>\n",
       "  <tbody>\n",
       "    <tr>\n",
       "      <th>0</th>\n",
       "      <td>@Drew78823936 @Erdayastronaut @DJSnM @RocketTe...</td>\n",
       "      <td>256</td>\n",
       "      <td>1104517220313382912</td>\n",
       "      <td>Sat Mar 09 23:00:00 +0000 2019</td>\n",
       "      <td>1227</td>\n",
       "      <td>67</td>\n",
       "    </tr>\n",
       "    <tr>\n",
       "      <th>1</th>\n",
       "      <td>@DJSnM @RocketTenor @NASA @SpaceX @Space_Stati...</td>\n",
       "      <td>177</td>\n",
       "      <td>1104514410935050240</td>\n",
       "      <td>Sat Mar 09 22:48:51 +0000 2019</td>\n",
       "      <td>1781</td>\n",
       "      <td>96</td>\n",
       "    </tr>\n",
       "    <tr>\n",
       "      <th>2</th>\n",
       "      <td>@dmk184 @NASA @SpaceX @Space_Station @Commerci...</td>\n",
       "      <td>119</td>\n",
       "      <td>1104511205933146112</td>\n",
       "      <td>Sat Mar 09 22:36:06 +0000 2019</td>\n",
       "      <td>976</td>\n",
       "      <td>32</td>\n",
       "    </tr>\n",
       "    <tr>\n",
       "      <th>3</th>\n",
       "      <td>@iamkostmos @NASA @SpaceX @Space_Station @Comm...</td>\n",
       "      <td>125</td>\n",
       "      <td>1104510803313487872</td>\n",
       "      <td>Sat Mar 09 22:34:30 +0000 2019</td>\n",
       "      <td>1117</td>\n",
       "      <td>41</td>\n",
       "    </tr>\n",
       "    <tr>\n",
       "      <th>4</th>\n",
       "      <td>@xandriteme @NASA @SpaceX @Space_Station @Comm...</td>\n",
       "      <td>104</td>\n",
       "      <td>1104510381886603264</td>\n",
       "      <td>Sat Mar 09 22:32:50 +0000 2019</td>\n",
       "      <td>855</td>\n",
       "      <td>23</td>\n",
       "    </tr>\n",
       "    <tr>\n",
       "      <th>5</th>\n",
       "      <td>@ajithshan03 @NASA @SpaceX @Space_Station @Com...</td>\n",
       "      <td>61</td>\n",
       "      <td>1104510016948592641</td>\n",
       "      <td>Sat Mar 09 22:31:23 +0000 2019</td>\n",
       "      <td>1032</td>\n",
       "      <td>19</td>\n",
       "    </tr>\n",
       "    <tr>\n",
       "      <th>6</th>\n",
       "      <td>@NASA @SpaceX @Space_Station @Commercial_Crew ...</td>\n",
       "      <td>239</td>\n",
       "      <td>1104509345922838528</td>\n",
       "      <td>Sat Mar 09 22:28:43 +0000 2019</td>\n",
       "      <td>12674</td>\n",
       "      <td>909</td>\n",
       "    </tr>\n",
       "    <tr>\n",
       "      <th>7</th>\n",
       "      <td>@TheOnion https://t.co/JoBxDo3zwh</td>\n",
       "      <td>33</td>\n",
       "      <td>1104498091305009152</td>\n",
       "      <td>Sat Mar 09 21:44:00 +0000 2019</td>\n",
       "      <td>66143</td>\n",
       "      <td>6929</td>\n",
       "    </tr>\n",
       "    <tr>\n",
       "      <th>8</th>\n",
       "      <td>@MKBHD @Tesla 😉</td>\n",
       "      <td>15</td>\n",
       "      <td>1104462447652438016</td>\n",
       "      <td>Sat Mar 09 19:22:22 +0000 2019</td>\n",
       "      <td>81646</td>\n",
       "      <td>2813</td>\n",
       "    </tr>\n",
       "    <tr>\n",
       "      <th>9</th>\n",
       "      <td>@Astronotic_s 27,000 km/h</td>\n",
       "      <td>25</td>\n",
       "      <td>1104147569762947072</td>\n",
       "      <td>Fri Mar 08 22:31:09 +0000 2019</td>\n",
       "      <td>2477</td>\n",
       "      <td>63</td>\n",
       "    </tr>\n",
       "  </tbody>\n",
       "</table>\n",
       "</div>"
      ],
      "text/plain": [
       "                                                Text  len  \\\n",
       "0  @Drew78823936 @Erdayastronaut @DJSnM @RocketTe...  256   \n",
       "1  @DJSnM @RocketTenor @NASA @SpaceX @Space_Stati...  177   \n",
       "2  @dmk184 @NASA @SpaceX @Space_Station @Commerci...  119   \n",
       "3  @iamkostmos @NASA @SpaceX @Space_Station @Comm...  125   \n",
       "4  @xandriteme @NASA @SpaceX @Space_Station @Comm...  104   \n",
       "5  @ajithshan03 @NASA @SpaceX @Space_Station @Com...   61   \n",
       "6  @NASA @SpaceX @Space_Station @Commercial_Crew ...  239   \n",
       "7                  @TheOnion https://t.co/JoBxDo3zwh   33   \n",
       "8                                    @MKBHD @Tesla 😉   15   \n",
       "9                          @Astronotic_s 27,000 km/h   25   \n",
       "\n",
       "                    id                            Date  Likes   RTs  \n",
       "0  1104517220313382912  Sat Mar 09 23:00:00 +0000 2019   1227    67  \n",
       "1  1104514410935050240  Sat Mar 09 22:48:51 +0000 2019   1781    96  \n",
       "2  1104511205933146112  Sat Mar 09 22:36:06 +0000 2019    976    32  \n",
       "3  1104510803313487872  Sat Mar 09 22:34:30 +0000 2019   1117    41  \n",
       "4  1104510381886603264  Sat Mar 09 22:32:50 +0000 2019    855    23  \n",
       "5  1104510016948592641  Sat Mar 09 22:31:23 +0000 2019   1032    19  \n",
       "6  1104509345922838528  Sat Mar 09 22:28:43 +0000 2019  12674   909  \n",
       "7  1104498091305009152  Sat Mar 09 21:44:00 +0000 2019  66143  6929  \n",
       "8  1104462447652438016  Sat Mar 09 19:22:22 +0000 2019  81646  2813  \n",
       "9  1104147569762947072  Fri Mar 08 22:31:09 +0000 2019   2477    63  "
      ]
     },
     "execution_count": 8,
     "metadata": {},
     "output_type": "execute_result"
    }
   ],
   "source": [
    "#Making dataframe for Musk tweets\n",
    "df_musk = pd.DataFrame(data=[tweet['full_text'] for tweet in tweets_musk], columns=['Text'])\n",
    "\n",
    "df_musk['len'] = np.array([len(tweet['full_text']) for tweet in tweets_musk])\n",
    "df_musk['id'] = np.array([tweet['id'] for tweet in tweets_musk])\n",
    "df_musk['Date'] = np.array([tweet['created_at'] for tweet in tweets_musk])\n",
    "df_musk['Likes'] = np.array([tweet['favorite_count'] for tweet in tweets_musk])\n",
    "df_musk['RTs'] = np.array([tweet['retweet_count'] for tweet in tweets_musk])\n",
    "\n",
    "df_musk.head(10)"
   ]
  },
  {
   "cell_type": "code",
   "execution_count": 9,
   "metadata": {},
   "outputs": [
    {
     "data": {
      "text/plain": [
       "Index(['Text', 'len', 'id', 'Date', 'Likes', 'RTs'], dtype='object')"
      ]
     },
     "execution_count": 9,
     "metadata": {},
     "output_type": "execute_result"
    }
   ],
   "source": [
    "#Checking Musk dataframe columns\n",
    "df_musk.columns"
   ]
  },
  {
   "cell_type": "markdown",
   "metadata": {},
   "source": [
    "### Collecting data for the Hypothesis 2 and Hypothesis 2a."
   ]
  },
  {
   "cell_type": "markdown",
   "metadata": {},
   "source": [
    "For the Hypothesis 2 we used the dataset with last 3200 Elon Musk tweets (df_musk - dataframe) which helped to apply customer ‘Likes’ in our further analysation. For dependent variable ‘Stocks’, we downloaded Tesla company stocks dataset from an open source Nasdaq. We chose to get only two years Tesla stock data as this time frame better suits to the number of tweets (3200) and nicely represent the annual stock tendency. (obtained data time frame: 17:03:2017 - 20.03.2019)\n",
    "\n",
    "\n"
   ]
  },
  {
   "cell_type": "code",
   "execution_count": 10,
   "metadata": {},
   "outputs": [],
   "source": [
    "#Uploading Tesla stock data\n",
    "teslastock = pd.read_csv('Teslastock.csv')"
   ]
  },
  {
   "cell_type": "code",
   "execution_count": 11,
   "metadata": {},
   "outputs": [
    {
     "data": {
      "text/html": [
       "<div>\n",
       "<style scoped>\n",
       "    .dataframe tbody tr th:only-of-type {\n",
       "        vertical-align: middle;\n",
       "    }\n",
       "\n",
       "    .dataframe tbody tr th {\n",
       "        vertical-align: top;\n",
       "    }\n",
       "\n",
       "    .dataframe thead th {\n",
       "        text-align: right;\n",
       "    }\n",
       "</style>\n",
       "<table border=\"1\" class=\"dataframe\">\n",
       "  <thead>\n",
       "    <tr style=\"text-align: right;\">\n",
       "      <th></th>\n",
       "      <th>date</th>\n",
       "      <th>close</th>\n",
       "      <th>volume</th>\n",
       "      <th>open</th>\n",
       "      <th>high</th>\n",
       "      <th>low</th>\n",
       "    </tr>\n",
       "  </thead>\n",
       "  <tbody>\n",
       "    <tr>\n",
       "      <th>0</th>\n",
       "      <td>12:31</td>\n",
       "      <td>271.52</td>\n",
       "      <td>8,369,687</td>\n",
       "      <td>267.50</td>\n",
       "      <td>273.3000</td>\n",
       "      <td>263.46</td>\n",
       "    </tr>\n",
       "    <tr>\n",
       "      <th>1</th>\n",
       "      <td>2019/03/18</td>\n",
       "      <td>269.49</td>\n",
       "      <td>10264960.0000</td>\n",
       "      <td>276.00</td>\n",
       "      <td>278.0500</td>\n",
       "      <td>267.30</td>\n",
       "    </tr>\n",
       "    <tr>\n",
       "      <th>2</th>\n",
       "      <td>2019/03/15</td>\n",
       "      <td>275.43</td>\n",
       "      <td>14757360.0000</td>\n",
       "      <td>283.51</td>\n",
       "      <td>283.7244</td>\n",
       "      <td>274.40</td>\n",
       "    </tr>\n",
       "    <tr>\n",
       "      <th>3</th>\n",
       "      <td>2019/03/14</td>\n",
       "      <td>289.96</td>\n",
       "      <td>7048138.0000</td>\n",
       "      <td>292.45</td>\n",
       "      <td>295.3900</td>\n",
       "      <td>288.29</td>\n",
       "    </tr>\n",
       "    <tr>\n",
       "      <th>4</th>\n",
       "      <td>2019/03/13</td>\n",
       "      <td>288.96</td>\n",
       "      <td>6817854.0000</td>\n",
       "      <td>283.90</td>\n",
       "      <td>291.9900</td>\n",
       "      <td>282.70</td>\n",
       "    </tr>\n",
       "  </tbody>\n",
       "</table>\n",
       "</div>"
      ],
      "text/plain": [
       "         date   close         volume    open      high     low\n",
       "0       12:31  271.52      8,369,687  267.50  273.3000  263.46\n",
       "1  2019/03/18  269.49  10264960.0000  276.00  278.0500  267.30\n",
       "2  2019/03/15  275.43  14757360.0000  283.51  283.7244  274.40\n",
       "3  2019/03/14  289.96   7048138.0000  292.45  295.3900  288.29\n",
       "4  2019/03/13  288.96   6817854.0000  283.90  291.9900  282.70"
      ]
     },
     "execution_count": 11,
     "metadata": {},
     "output_type": "execute_result"
    }
   ],
   "source": [
    "teslastock.head()"
   ]
  },
  {
   "cell_type": "code",
   "execution_count": 12,
   "metadata": {},
   "outputs": [
    {
     "data": {
      "text/html": [
       "<div>\n",
       "<style scoped>\n",
       "    .dataframe tbody tr th:only-of-type {\n",
       "        vertical-align: middle;\n",
       "    }\n",
       "\n",
       "    .dataframe tbody tr th {\n",
       "        vertical-align: top;\n",
       "    }\n",
       "\n",
       "    .dataframe thead th {\n",
       "        text-align: right;\n",
       "    }\n",
       "</style>\n",
       "<table border=\"1\" class=\"dataframe\">\n",
       "  <thead>\n",
       "    <tr style=\"text-align: right;\">\n",
       "      <th></th>\n",
       "      <th>close</th>\n",
       "      <th>open</th>\n",
       "      <th>high</th>\n",
       "      <th>low</th>\n",
       "    </tr>\n",
       "  </thead>\n",
       "  <tbody>\n",
       "    <tr>\n",
       "      <th>count</th>\n",
       "      <td>503.000000</td>\n",
       "      <td>503.000000</td>\n",
       "      <td>503.000000</td>\n",
       "      <td>503.000000</td>\n",
       "    </tr>\n",
       "    <tr>\n",
       "      <th>mean</th>\n",
       "      <td>321.409513</td>\n",
       "      <td>321.428333</td>\n",
       "      <td>326.900309</td>\n",
       "      <td>315.480327</td>\n",
       "    </tr>\n",
       "    <tr>\n",
       "      <th>std</th>\n",
       "      <td>28.643734</td>\n",
       "      <td>28.882711</td>\n",
       "      <td>28.799501</td>\n",
       "      <td>28.774974</td>\n",
       "    </tr>\n",
       "    <tr>\n",
       "      <th>min</th>\n",
       "      <td>250.560000</td>\n",
       "      <td>251.560000</td>\n",
       "      <td>255.070000</td>\n",
       "      <td>244.590100</td>\n",
       "    </tr>\n",
       "    <tr>\n",
       "      <th>25%</th>\n",
       "      <td>301.600000</td>\n",
       "      <td>301.795000</td>\n",
       "      <td>306.950000</td>\n",
       "      <td>295.500000</td>\n",
       "    </tr>\n",
       "    <tr>\n",
       "      <th>50%</th>\n",
       "      <td>320.080000</td>\n",
       "      <td>319.140000</td>\n",
       "      <td>324.790000</td>\n",
       "      <td>313.920000</td>\n",
       "    </tr>\n",
       "    <tr>\n",
       "      <th>75%</th>\n",
       "      <td>344.515000</td>\n",
       "      <td>344.960000</td>\n",
       "      <td>349.200000</td>\n",
       "      <td>338.272400</td>\n",
       "    </tr>\n",
       "    <tr>\n",
       "      <th>max</th>\n",
       "      <td>385.000000</td>\n",
       "      <td>386.690000</td>\n",
       "      <td>389.610000</td>\n",
       "      <td>379.345000</td>\n",
       "    </tr>\n",
       "  </tbody>\n",
       "</table>\n",
       "</div>"
      ],
      "text/plain": [
       "            close        open        high         low\n",
       "count  503.000000  503.000000  503.000000  503.000000\n",
       "mean   321.409513  321.428333  326.900309  315.480327\n",
       "std     28.643734   28.882711   28.799501   28.774974\n",
       "min    250.560000  251.560000  255.070000  244.590100\n",
       "25%    301.600000  301.795000  306.950000  295.500000\n",
       "50%    320.080000  319.140000  324.790000  313.920000\n",
       "75%    344.515000  344.960000  349.200000  338.272400\n",
       "max    385.000000  386.690000  389.610000  379.345000"
      ]
     },
     "execution_count": 12,
     "metadata": {},
     "output_type": "execute_result"
    }
   ],
   "source": [
    "teslastock.describe()"
   ]
  },
  {
   "cell_type": "code",
   "execution_count": 13,
   "metadata": {},
   "outputs": [
    {
     "data": {
      "text/plain": [
       "Index(['date', 'close', 'volume', 'open', 'high', 'low'], dtype='object')"
      ]
     },
     "execution_count": 13,
     "metadata": {},
     "output_type": "execute_result"
    }
   ],
   "source": [
    "#Checking Tesla stock columns\n",
    "teslastock.columns"
   ]
  },
  {
   "cell_type": "markdown",
   "metadata": {},
   "source": [
    "## Data cleaning\n",
    "### Hypothesis 1\n"
   ]
  },
  {
   "cell_type": "markdown",
   "metadata": {},
   "source": [
    "Last 3200 tweets were collected specifically for the H1 testing, therefore the data frames – df_musk and df_tesla do not require much cleaning. Though, several things still should be done. First, we need to create necessary for hypothesis (H1) variables, namely variable engagement for the each of the data frame.  This variable will be consist of two elements – likes and retweets. Second, we need to eliminate all NaN results replacing it with 0."
   ]
  },
  {
   "cell_type": "code",
   "execution_count": 14,
   "metadata": {},
   "outputs": [],
   "source": [
    "#Creating Tesla engagement scale\n",
    "df_tesla['engagement'] = df_tesla['Likes']+df_tesla['RTs']"
   ]
  },
  {
   "cell_type": "code",
   "execution_count": 15,
   "metadata": {},
   "outputs": [
    {
     "data": {
      "text/plain": [
       "Index(['Text', 'len', 'id', 'Date', 'Likes', 'RTs'], dtype='object')"
      ]
     },
     "execution_count": 15,
     "metadata": {},
     "output_type": "execute_result"
    }
   ],
   "source": [
    "df_musk.columns"
   ]
  },
  {
   "cell_type": "code",
   "execution_count": 16,
   "metadata": {},
   "outputs": [],
   "source": [
    "#Creating Elon Musk engagement scale\n",
    "df_musk['engagement'] = df_musk['Likes']+df_musk['RTs']"
   ]
  },
  {
   "cell_type": "code",
   "execution_count": 17,
   "metadata": {},
   "outputs": [
    {
     "data": {
      "text/plain": [
       "Index(['Text', 'len', 'id', 'Date', 'Likes', 'RTs', 'engagement'], dtype='object')"
      ]
     },
     "execution_count": 17,
     "metadata": {},
     "output_type": "execute_result"
    }
   ],
   "source": [
    "df_musk.columns"
   ]
  },
  {
   "cell_type": "code",
   "execution_count": 18,
   "metadata": {},
   "outputs": [
    {
     "data": {
      "text/html": [
       "<div>\n",
       "<style scoped>\n",
       "    .dataframe tbody tr th:only-of-type {\n",
       "        vertical-align: middle;\n",
       "    }\n",
       "\n",
       "    .dataframe tbody tr th {\n",
       "        vertical-align: top;\n",
       "    }\n",
       "\n",
       "    .dataframe thead th {\n",
       "        text-align: right;\n",
       "    }\n",
       "</style>\n",
       "<table border=\"1\" class=\"dataframe\">\n",
       "  <thead>\n",
       "    <tr style=\"text-align: right;\">\n",
       "      <th></th>\n",
       "      <th>Text</th>\n",
       "      <th>len</th>\n",
       "      <th>id</th>\n",
       "      <th>Date</th>\n",
       "      <th>Likes</th>\n",
       "      <th>RTs</th>\n",
       "      <th>engagement</th>\n",
       "    </tr>\n",
       "  </thead>\n",
       "  <tbody>\n",
       "    <tr>\n",
       "      <th>0</th>\n",
       "      <td>@Drew78823936 @Erdayastronaut @DJSnM @RocketTe...</td>\n",
       "      <td>256</td>\n",
       "      <td>1104517220313382912</td>\n",
       "      <td>Sat Mar 09 23:00:00 +0000 2019</td>\n",
       "      <td>1227</td>\n",
       "      <td>67</td>\n",
       "      <td>1294</td>\n",
       "    </tr>\n",
       "    <tr>\n",
       "      <th>1</th>\n",
       "      <td>@DJSnM @RocketTenor @NASA @SpaceX @Space_Stati...</td>\n",
       "      <td>177</td>\n",
       "      <td>1104514410935050240</td>\n",
       "      <td>Sat Mar 09 22:48:51 +0000 2019</td>\n",
       "      <td>1781</td>\n",
       "      <td>96</td>\n",
       "      <td>1877</td>\n",
       "    </tr>\n",
       "    <tr>\n",
       "      <th>2</th>\n",
       "      <td>@dmk184 @NASA @SpaceX @Space_Station @Commerci...</td>\n",
       "      <td>119</td>\n",
       "      <td>1104511205933146112</td>\n",
       "      <td>Sat Mar 09 22:36:06 +0000 2019</td>\n",
       "      <td>976</td>\n",
       "      <td>32</td>\n",
       "      <td>1008</td>\n",
       "    </tr>\n",
       "    <tr>\n",
       "      <th>3</th>\n",
       "      <td>@iamkostmos @NASA @SpaceX @Space_Station @Comm...</td>\n",
       "      <td>125</td>\n",
       "      <td>1104510803313487872</td>\n",
       "      <td>Sat Mar 09 22:34:30 +0000 2019</td>\n",
       "      <td>1117</td>\n",
       "      <td>41</td>\n",
       "      <td>1158</td>\n",
       "    </tr>\n",
       "    <tr>\n",
       "      <th>4</th>\n",
       "      <td>@xandriteme @NASA @SpaceX @Space_Station @Comm...</td>\n",
       "      <td>104</td>\n",
       "      <td>1104510381886603264</td>\n",
       "      <td>Sat Mar 09 22:32:50 +0000 2019</td>\n",
       "      <td>855</td>\n",
       "      <td>23</td>\n",
       "      <td>878</td>\n",
       "    </tr>\n",
       "  </tbody>\n",
       "</table>\n",
       "</div>"
      ],
      "text/plain": [
       "                                                Text  len  \\\n",
       "0  @Drew78823936 @Erdayastronaut @DJSnM @RocketTe...  256   \n",
       "1  @DJSnM @RocketTenor @NASA @SpaceX @Space_Stati...  177   \n",
       "2  @dmk184 @NASA @SpaceX @Space_Station @Commerci...  119   \n",
       "3  @iamkostmos @NASA @SpaceX @Space_Station @Comm...  125   \n",
       "4  @xandriteme @NASA @SpaceX @Space_Station @Comm...  104   \n",
       "\n",
       "                    id                            Date  Likes  RTs  engagement  \n",
       "0  1104517220313382912  Sat Mar 09 23:00:00 +0000 2019   1227   67        1294  \n",
       "1  1104514410935050240  Sat Mar 09 22:48:51 +0000 2019   1781   96        1877  \n",
       "2  1104511205933146112  Sat Mar 09 22:36:06 +0000 2019    976   32        1008  \n",
       "3  1104510803313487872  Sat Mar 09 22:34:30 +0000 2019   1117   41        1158  \n",
       "4  1104510381886603264  Sat Mar 09 22:32:50 +0000 2019    855   23         878  "
      ]
     },
     "execution_count": 18,
     "metadata": {},
     "output_type": "execute_result"
    }
   ],
   "source": [
    "df_musk.head()"
   ]
  },
  {
   "cell_type": "code",
   "execution_count": 19,
   "metadata": {},
   "outputs": [],
   "source": [
    "#Replacing all NaN values from Tesla engagement scale with 0\n",
    "df_tesla['engagement'] = df_tesla['engagement'].fillna(0)"
   ]
  },
  {
   "cell_type": "code",
   "execution_count": 20,
   "metadata": {},
   "outputs": [],
   "source": [
    "#Replacing all NaN values from Musk engagement scale with 0\n",
    "df_musk['engagement'] = df_musk['engagement'].fillna(0)"
   ]
  },
  {
   "cell_type": "markdown",
   "metadata": {},
   "source": [
    "### Hypothesis 2 "
   ]
  },
  {
   "cell_type": "markdown",
   "metadata": {},
   "source": [
    "This hypothesis requires data cleaning and data merging of two dataframes - teslastock and df_musk.\n",
    "\n",
    "Prior the merging procedure we should standardize the column by which two dataframes will be merged. We have one common column - date. As we can see from the previous section these columns have slightly different titles and completely different date formats. Thus, we should make the titles of the columns and the date formats identical."
   ]
  },
  {
   "cell_type": "code",
   "execution_count": 21,
   "metadata": {},
   "outputs": [],
   "source": [
    "#Renaming teslastock dataframe, making the column date identical to column Date in the df_musk\n",
    "teslastock_ren = teslastock.rename(columns={'date': 'Date'}) "
   ]
  },
  {
   "cell_type": "code",
   "execution_count": 22,
   "metadata": {},
   "outputs": [
    {
     "data": {
      "text/plain": [
       "Index(['Date', 'close', 'volume', 'open', 'high', 'low'], dtype='object')"
      ]
     },
     "execution_count": 22,
     "metadata": {},
     "output_type": "execute_result"
    }
   ],
   "source": [
    "#checking for renamed column\n",
    "teslastock_ren.columns"
   ]
  },
  {
   "cell_type": "code",
   "execution_count": 23,
   "metadata": {},
   "outputs": [],
   "source": [
    "#importing datetimemodule for date format standartization\n",
    "from datetime import datetime"
   ]
  },
  {
   "cell_type": "code",
   "execution_count": 24,
   "metadata": {},
   "outputs": [],
   "source": [
    "#Converting string column Date to a datetime object in df_musk\n",
    "df_musk['Date'] = pd.DatetimeIndex(pd.to_datetime(df_musk['Date'])).normalize()"
   ]
  },
  {
   "cell_type": "code",
   "execution_count": 25,
   "metadata": {},
   "outputs": [
    {
     "data": {
      "text/html": [
       "<div>\n",
       "<style scoped>\n",
       "    .dataframe tbody tr th:only-of-type {\n",
       "        vertical-align: middle;\n",
       "    }\n",
       "\n",
       "    .dataframe tbody tr th {\n",
       "        vertical-align: top;\n",
       "    }\n",
       "\n",
       "    .dataframe thead th {\n",
       "        text-align: right;\n",
       "    }\n",
       "</style>\n",
       "<table border=\"1\" class=\"dataframe\">\n",
       "  <thead>\n",
       "    <tr style=\"text-align: right;\">\n",
       "      <th></th>\n",
       "      <th>Text</th>\n",
       "      <th>len</th>\n",
       "      <th>id</th>\n",
       "      <th>Date</th>\n",
       "      <th>Likes</th>\n",
       "      <th>RTs</th>\n",
       "      <th>engagement</th>\n",
       "    </tr>\n",
       "  </thead>\n",
       "  <tbody>\n",
       "    <tr>\n",
       "      <th>0</th>\n",
       "      <td>@Drew78823936 @Erdayastronaut @DJSnM @RocketTe...</td>\n",
       "      <td>256</td>\n",
       "      <td>1104517220313382912</td>\n",
       "      <td>2019-03-09</td>\n",
       "      <td>1227</td>\n",
       "      <td>67</td>\n",
       "      <td>1294</td>\n",
       "    </tr>\n",
       "    <tr>\n",
       "      <th>1</th>\n",
       "      <td>@DJSnM @RocketTenor @NASA @SpaceX @Space_Stati...</td>\n",
       "      <td>177</td>\n",
       "      <td>1104514410935050240</td>\n",
       "      <td>2019-03-09</td>\n",
       "      <td>1781</td>\n",
       "      <td>96</td>\n",
       "      <td>1877</td>\n",
       "    </tr>\n",
       "    <tr>\n",
       "      <th>2</th>\n",
       "      <td>@dmk184 @NASA @SpaceX @Space_Station @Commerci...</td>\n",
       "      <td>119</td>\n",
       "      <td>1104511205933146112</td>\n",
       "      <td>2019-03-09</td>\n",
       "      <td>976</td>\n",
       "      <td>32</td>\n",
       "      <td>1008</td>\n",
       "    </tr>\n",
       "    <tr>\n",
       "      <th>3</th>\n",
       "      <td>@iamkostmos @NASA @SpaceX @Space_Station @Comm...</td>\n",
       "      <td>125</td>\n",
       "      <td>1104510803313487872</td>\n",
       "      <td>2019-03-09</td>\n",
       "      <td>1117</td>\n",
       "      <td>41</td>\n",
       "      <td>1158</td>\n",
       "    </tr>\n",
       "    <tr>\n",
       "      <th>4</th>\n",
       "      <td>@xandriteme @NASA @SpaceX @Space_Station @Comm...</td>\n",
       "      <td>104</td>\n",
       "      <td>1104510381886603264</td>\n",
       "      <td>2019-03-09</td>\n",
       "      <td>855</td>\n",
       "      <td>23</td>\n",
       "      <td>878</td>\n",
       "    </tr>\n",
       "  </tbody>\n",
       "</table>\n",
       "</div>"
      ],
      "text/plain": [
       "                                                Text  len  \\\n",
       "0  @Drew78823936 @Erdayastronaut @DJSnM @RocketTe...  256   \n",
       "1  @DJSnM @RocketTenor @NASA @SpaceX @Space_Stati...  177   \n",
       "2  @dmk184 @NASA @SpaceX @Space_Station @Commerci...  119   \n",
       "3  @iamkostmos @NASA @SpaceX @Space_Station @Comm...  125   \n",
       "4  @xandriteme @NASA @SpaceX @Space_Station @Comm...  104   \n",
       "\n",
       "                    id       Date  Likes  RTs  engagement  \n",
       "0  1104517220313382912 2019-03-09   1227   67        1294  \n",
       "1  1104514410935050240 2019-03-09   1781   96        1877  \n",
       "2  1104511205933146112 2019-03-09    976   32        1008  \n",
       "3  1104510803313487872 2019-03-09   1117   41        1158  \n",
       "4  1104510381886603264 2019-03-09    855   23         878  "
      ]
     },
     "execution_count": 25,
     "metadata": {},
     "output_type": "execute_result"
    }
   ],
   "source": [
    "df_musk.head()"
   ]
  },
  {
   "cell_type": "code",
   "execution_count": 26,
   "metadata": {},
   "outputs": [
    {
     "data": {
      "text/plain": [
       "Text                  object\n",
       "len                    int32\n",
       "id                     int64\n",
       "Date          datetime64[ns]\n",
       "Likes                  int32\n",
       "RTs                    int32\n",
       "engagement             int32\n",
       "dtype: object"
      ]
     },
     "execution_count": 26,
     "metadata": {},
     "output_type": "execute_result"
    }
   ],
   "source": [
    "df_musk.dtypes"
   ]
  },
  {
   "cell_type": "code",
   "execution_count": 27,
   "metadata": {},
   "outputs": [],
   "source": [
    "#Converting string column Date to a datetime object in teslastock_ren\n",
    "teslastock_ren['Date'] = pd.DatetimeIndex(pd.to_datetime(teslastock_ren['Date'])).normalize()"
   ]
  },
  {
   "cell_type": "code",
   "execution_count": 28,
   "metadata": {},
   "outputs": [
    {
     "data": {
      "text/html": [
       "<div>\n",
       "<style scoped>\n",
       "    .dataframe tbody tr th:only-of-type {\n",
       "        vertical-align: middle;\n",
       "    }\n",
       "\n",
       "    .dataframe tbody tr th {\n",
       "        vertical-align: top;\n",
       "    }\n",
       "\n",
       "    .dataframe thead th {\n",
       "        text-align: right;\n",
       "    }\n",
       "</style>\n",
       "<table border=\"1\" class=\"dataframe\">\n",
       "  <thead>\n",
       "    <tr style=\"text-align: right;\">\n",
       "      <th></th>\n",
       "      <th>Date</th>\n",
       "      <th>close</th>\n",
       "      <th>volume</th>\n",
       "      <th>open</th>\n",
       "      <th>high</th>\n",
       "      <th>low</th>\n",
       "    </tr>\n",
       "  </thead>\n",
       "  <tbody>\n",
       "    <tr>\n",
       "      <th>0</th>\n",
       "      <td>2019-03-22</td>\n",
       "      <td>271.52</td>\n",
       "      <td>8,369,687</td>\n",
       "      <td>267.50</td>\n",
       "      <td>273.3000</td>\n",
       "      <td>263.46</td>\n",
       "    </tr>\n",
       "    <tr>\n",
       "      <th>1</th>\n",
       "      <td>2019-03-18</td>\n",
       "      <td>269.49</td>\n",
       "      <td>10264960.0000</td>\n",
       "      <td>276.00</td>\n",
       "      <td>278.0500</td>\n",
       "      <td>267.30</td>\n",
       "    </tr>\n",
       "    <tr>\n",
       "      <th>2</th>\n",
       "      <td>2019-03-15</td>\n",
       "      <td>275.43</td>\n",
       "      <td>14757360.0000</td>\n",
       "      <td>283.51</td>\n",
       "      <td>283.7244</td>\n",
       "      <td>274.40</td>\n",
       "    </tr>\n",
       "    <tr>\n",
       "      <th>3</th>\n",
       "      <td>2019-03-14</td>\n",
       "      <td>289.96</td>\n",
       "      <td>7048138.0000</td>\n",
       "      <td>292.45</td>\n",
       "      <td>295.3900</td>\n",
       "      <td>288.29</td>\n",
       "    </tr>\n",
       "    <tr>\n",
       "      <th>4</th>\n",
       "      <td>2019-03-13</td>\n",
       "      <td>288.96</td>\n",
       "      <td>6817854.0000</td>\n",
       "      <td>283.90</td>\n",
       "      <td>291.9900</td>\n",
       "      <td>282.70</td>\n",
       "    </tr>\n",
       "  </tbody>\n",
       "</table>\n",
       "</div>"
      ],
      "text/plain": [
       "        Date   close         volume    open      high     low\n",
       "0 2019-03-22  271.52      8,369,687  267.50  273.3000  263.46\n",
       "1 2019-03-18  269.49  10264960.0000  276.00  278.0500  267.30\n",
       "2 2019-03-15  275.43  14757360.0000  283.51  283.7244  274.40\n",
       "3 2019-03-14  289.96   7048138.0000  292.45  295.3900  288.29\n",
       "4 2019-03-13  288.96   6817854.0000  283.90  291.9900  282.70"
      ]
     },
     "execution_count": 28,
     "metadata": {},
     "output_type": "execute_result"
    }
   ],
   "source": [
    "teslastock_ren.head()"
   ]
  },
  {
   "cell_type": "code",
   "execution_count": 29,
   "metadata": {},
   "outputs": [
    {
     "data": {
      "text/plain": [
       "Date      datetime64[ns]\n",
       "close            float64\n",
       "volume            object\n",
       "open             float64\n",
       "high             float64\n",
       "low              float64\n",
       "dtype: object"
      ]
     },
     "execution_count": 29,
     "metadata": {},
     "output_type": "execute_result"
    }
   ],
   "source": [
    "teslastock_ren.dtypes"
   ]
  },
  {
   "cell_type": "markdown",
   "metadata": {},
   "source": [
    "Now we are able to merge these dataframes."
   ]
  },
  {
   "cell_type": "code",
   "execution_count": 30,
   "metadata": {
    "scrolled": true
   },
   "outputs": [
    {
     "data": {
      "text/html": [
       "<div>\n",
       "<style scoped>\n",
       "    .dataframe tbody tr th:only-of-type {\n",
       "        vertical-align: middle;\n",
       "    }\n",
       "\n",
       "    .dataframe tbody tr th {\n",
       "        vertical-align: top;\n",
       "    }\n",
       "\n",
       "    .dataframe thead th {\n",
       "        text-align: right;\n",
       "    }\n",
       "</style>\n",
       "<table border=\"1\" class=\"dataframe\">\n",
       "  <thead>\n",
       "    <tr style=\"text-align: right;\">\n",
       "      <th></th>\n",
       "      <th>Date</th>\n",
       "      <th>close</th>\n",
       "      <th>volume</th>\n",
       "      <th>open</th>\n",
       "      <th>high</th>\n",
       "      <th>low</th>\n",
       "      <th>Text</th>\n",
       "      <th>len</th>\n",
       "      <th>id</th>\n",
       "      <th>Likes</th>\n",
       "      <th>RTs</th>\n",
       "      <th>engagement</th>\n",
       "    </tr>\n",
       "  </thead>\n",
       "  <tbody>\n",
       "    <tr>\n",
       "      <th>0</th>\n",
       "      <td>2019-03-08</td>\n",
       "      <td>284.14</td>\n",
       "      <td>8805772.0000</td>\n",
       "      <td>276.91</td>\n",
       "      <td>285.59</td>\n",
       "      <td>275.89</td>\n",
       "      <td>@Astronotic_s 27,000 km/h</td>\n",
       "      <td>25</td>\n",
       "      <td>1104147569762947072</td>\n",
       "      <td>2477</td>\n",
       "      <td>63</td>\n",
       "      <td>2540</td>\n",
       "    </tr>\n",
       "    <tr>\n",
       "      <th>1</th>\n",
       "      <td>2019-03-08</td>\n",
       "      <td>284.14</td>\n",
       "      <td>8805772.0000</td>\n",
       "      <td>276.91</td>\n",
       "      <td>285.59</td>\n",
       "      <td>275.89</td>\n",
       "      <td>@BPSYT1 @Erdayastronaut @roscosmos @Rogozin @J...</td>\n",
       "      <td>122</td>\n",
       "      <td>1104145565028241408</td>\n",
       "      <td>2341</td>\n",
       "      <td>184</td>\n",
       "      <td>2525</td>\n",
       "    </tr>\n",
       "    <tr>\n",
       "      <th>2</th>\n",
       "      <td>2019-03-08</td>\n",
       "      <td>284.14</td>\n",
       "      <td>8805772.0000</td>\n",
       "      <td>276.91</td>\n",
       "      <td>285.59</td>\n",
       "      <td>275.89</td>\n",
       "      <td>@Erdayastronaut @roscosmos @Rogozin @JimBriden...</td>\n",
       "      <td>90</td>\n",
       "      <td>1104144985572532224</td>\n",
       "      <td>1637</td>\n",
       "      <td>64</td>\n",
       "      <td>1701</td>\n",
       "    </tr>\n",
       "    <tr>\n",
       "      <th>3</th>\n",
       "      <td>2019-03-08</td>\n",
       "      <td>284.14</td>\n",
       "      <td>8805772.0000</td>\n",
       "      <td>276.91</td>\n",
       "      <td>285.59</td>\n",
       "      <td>275.89</td>\n",
       "      <td>@roscosmos @Rogozin @JimBridenstine Thank you ...</td>\n",
       "      <td>124</td>\n",
       "      <td>1104143614345527296</td>\n",
       "      <td>8042</td>\n",
       "      <td>328</td>\n",
       "      <td>8370</td>\n",
       "    </tr>\n",
       "    <tr>\n",
       "      <th>4</th>\n",
       "      <td>2019-03-08</td>\n",
       "      <td>284.14</td>\n",
       "      <td>8805772.0000</td>\n",
       "      <td>276.91</td>\n",
       "      <td>285.59</td>\n",
       "      <td>275.89</td>\n",
       "      <td>@BarackObama @NASA @SpaceX @Commercial_Crew Th...</td>\n",
       "      <td>88</td>\n",
       "      <td>1104141771863339008</td>\n",
       "      <td>49319</td>\n",
       "      <td>1383</td>\n",
       "      <td>50702</td>\n",
       "    </tr>\n",
       "    <tr>\n",
       "      <th>5</th>\n",
       "      <td>2019-03-08</td>\n",
       "      <td>284.14</td>\n",
       "      <td>8805772.0000</td>\n",
       "      <td>276.91</td>\n",
       "      <td>285.59</td>\n",
       "      <td>275.89</td>\n",
       "      <td>@JD_2020 All good, system maintained room temp...</td>\n",
       "      <td>71</td>\n",
       "      <td>1104092184230289408</td>\n",
       "      <td>3688</td>\n",
       "      <td>133</td>\n",
       "      <td>3821</td>\n",
       "    </tr>\n",
       "    <tr>\n",
       "      <th>6</th>\n",
       "      <td>2019-03-08</td>\n",
       "      <td>284.14</td>\n",
       "      <td>8805772.0000</td>\n",
       "      <td>276.91</td>\n",
       "      <td>285.59</td>\n",
       "      <td>275.89</td>\n",
       "      <td>@YoBigBrotha Phenolic impregnated carbon ablat...</td>\n",
       "      <td>59</td>\n",
       "      <td>1104091386230403072</td>\n",
       "      <td>3823</td>\n",
       "      <td>149</td>\n",
       "      <td>3972</td>\n",
       "    </tr>\n",
       "    <tr>\n",
       "      <th>7</th>\n",
       "      <td>2019-03-08</td>\n",
       "      <td>284.14</td>\n",
       "      <td>8805772.0000</td>\n",
       "      <td>276.91</td>\n",
       "      <td>285.59</td>\n",
       "      <td>275.89</td>\n",
       "      <td>Atmospheric entry at 17,000 mph is like a mete...</td>\n",
       "      <td>161</td>\n",
       "      <td>1104090692215726080</td>\n",
       "      <td>55360</td>\n",
       "      <td>5093</td>\n",
       "      <td>60453</td>\n",
       "    </tr>\n",
       "    <tr>\n",
       "      <th>8</th>\n",
       "      <td>2019-03-08</td>\n",
       "      <td>284.14</td>\n",
       "      <td>8805772.0000</td>\n",
       "      <td>276.91</td>\n",
       "      <td>285.59</td>\n",
       "      <td>275.89</td>\n",
       "      <td>RT @Commercial_Crew: Successful splashdown of ...</td>\n",
       "      <td>116</td>\n",
       "      <td>1104088081160757248</td>\n",
       "      <td>0</td>\n",
       "      <td>5635</td>\n",
       "      <td>5635</td>\n",
       "    </tr>\n",
       "    <tr>\n",
       "      <th>9</th>\n",
       "      <td>2019-03-08</td>\n",
       "      <td>284.14</td>\n",
       "      <td>8805772.0000</td>\n",
       "      <td>276.91</td>\n",
       "      <td>285.59</td>\n",
       "      <td>275.89</td>\n",
       "      <td>@RPMTESLA Yes, invitations go out tomorrow</td>\n",
       "      <td>42</td>\n",
       "      <td>1103929977513271298</td>\n",
       "      <td>1176</td>\n",
       "      <td>65</td>\n",
       "      <td>1241</td>\n",
       "    </tr>\n",
       "  </tbody>\n",
       "</table>\n",
       "</div>"
      ],
      "text/plain": [
       "        Date   close        volume    open    high     low  \\\n",
       "0 2019-03-08  284.14  8805772.0000  276.91  285.59  275.89   \n",
       "1 2019-03-08  284.14  8805772.0000  276.91  285.59  275.89   \n",
       "2 2019-03-08  284.14  8805772.0000  276.91  285.59  275.89   \n",
       "3 2019-03-08  284.14  8805772.0000  276.91  285.59  275.89   \n",
       "4 2019-03-08  284.14  8805772.0000  276.91  285.59  275.89   \n",
       "5 2019-03-08  284.14  8805772.0000  276.91  285.59  275.89   \n",
       "6 2019-03-08  284.14  8805772.0000  276.91  285.59  275.89   \n",
       "7 2019-03-08  284.14  8805772.0000  276.91  285.59  275.89   \n",
       "8 2019-03-08  284.14  8805772.0000  276.91  285.59  275.89   \n",
       "9 2019-03-08  284.14  8805772.0000  276.91  285.59  275.89   \n",
       "\n",
       "                                                Text  len  \\\n",
       "0                          @Astronotic_s 27,000 km/h   25   \n",
       "1  @BPSYT1 @Erdayastronaut @roscosmos @Rogozin @J...  122   \n",
       "2  @Erdayastronaut @roscosmos @Rogozin @JimBriden...   90   \n",
       "3  @roscosmos @Rogozin @JimBridenstine Thank you ...  124   \n",
       "4  @BarackObama @NASA @SpaceX @Commercial_Crew Th...   88   \n",
       "5  @JD_2020 All good, system maintained room temp...   71   \n",
       "6  @YoBigBrotha Phenolic impregnated carbon ablat...   59   \n",
       "7  Atmospheric entry at 17,000 mph is like a mete...  161   \n",
       "8  RT @Commercial_Crew: Successful splashdown of ...  116   \n",
       "9         @RPMTESLA Yes, invitations go out tomorrow   42   \n",
       "\n",
       "                    id  Likes   RTs  engagement  \n",
       "0  1104147569762947072   2477    63        2540  \n",
       "1  1104145565028241408   2341   184        2525  \n",
       "2  1104144985572532224   1637    64        1701  \n",
       "3  1104143614345527296   8042   328        8370  \n",
       "4  1104141771863339008  49319  1383       50702  \n",
       "5  1104092184230289408   3688   133        3821  \n",
       "6  1104091386230403072   3823   149        3972  \n",
       "7  1104090692215726080  55360  5093       60453  \n",
       "8  1104088081160757248      0  5635        5635  \n",
       "9  1103929977513271298   1176    65        1241  "
      ]
     },
     "execution_count": 30,
     "metadata": {},
     "output_type": "execute_result"
    }
   ],
   "source": [
    "#merging two dataframes by Date\n",
    "merged_stock_musk = teslastock_ren.merge(df_musk, on= 'Date')\n",
    "merged_stock_musk.head(10)"
   ]
  },
  {
   "cell_type": "markdown",
   "metadata": {},
   "source": [
    "Now we can see that some dates have more than one tweets. As we are going use the price stock at the end of the day, 'close' column we need overall number of likes at one specific day."
   ]
  },
  {
   "cell_type": "code",
   "execution_count": 31,
   "metadata": {
    "scrolled": true
   },
   "outputs": [],
   "source": [
    "#Making final dataframe for regression analysis with overall number of likes per one day.\n",
    "overall_likes_stmu = pd.DataFrame(merged_stock_musk.groupby(['Date', 'close'])['Likes'].sum()).reset_index()"
   ]
  },
  {
   "cell_type": "code",
   "execution_count": 32,
   "metadata": {
    "scrolled": true
   },
   "outputs": [
    {
     "data": {
      "text/html": [
       "<div>\n",
       "<style scoped>\n",
       "    .dataframe tbody tr th:only-of-type {\n",
       "        vertical-align: middle;\n",
       "    }\n",
       "\n",
       "    .dataframe tbody tr th {\n",
       "        vertical-align: top;\n",
       "    }\n",
       "\n",
       "    .dataframe thead th {\n",
       "        text-align: right;\n",
       "    }\n",
       "</style>\n",
       "<table border=\"1\" class=\"dataframe\">\n",
       "  <thead>\n",
       "    <tr style=\"text-align: right;\">\n",
       "      <th></th>\n",
       "      <th>Date</th>\n",
       "      <th>close</th>\n",
       "      <th>Likes</th>\n",
       "    </tr>\n",
       "  </thead>\n",
       "  <tbody>\n",
       "    <tr>\n",
       "      <th>0</th>\n",
       "      <td>2017-12-08</td>\n",
       "      <td>315.13</td>\n",
       "      <td>32274</td>\n",
       "    </tr>\n",
       "    <tr>\n",
       "      <th>1</th>\n",
       "      <td>2017-12-11</td>\n",
       "      <td>328.91</td>\n",
       "      <td>145815</td>\n",
       "    </tr>\n",
       "    <tr>\n",
       "      <th>2</th>\n",
       "      <td>2017-12-12</td>\n",
       "      <td>341.03</td>\n",
       "      <td>25711</td>\n",
       "    </tr>\n",
       "    <tr>\n",
       "      <th>3</th>\n",
       "      <td>2017-12-13</td>\n",
       "      <td>339.03</td>\n",
       "      <td>96532</td>\n",
       "    </tr>\n",
       "    <tr>\n",
       "      <th>4</th>\n",
       "      <td>2017-12-14</td>\n",
       "      <td>337.89</td>\n",
       "      <td>24774</td>\n",
       "    </tr>\n",
       "  </tbody>\n",
       "</table>\n",
       "</div>"
      ],
      "text/plain": [
       "        Date   close   Likes\n",
       "0 2017-12-08  315.13   32274\n",
       "1 2017-12-11  328.91  145815\n",
       "2 2017-12-12  341.03   25711\n",
       "3 2017-12-13  339.03   96532\n",
       "4 2017-12-14  337.89   24774"
      ]
     },
     "execution_count": 32,
     "metadata": {},
     "output_type": "execute_result"
    }
   ],
   "source": [
    "overall_likes_stmu.head()"
   ]
  },
  {
   "cell_type": "code",
   "execution_count": 33,
   "metadata": {},
   "outputs": [
    {
     "data": {
      "text/plain": [
       "Date     279\n",
       "close    279\n",
       "Likes    279\n",
       "dtype: int64"
      ]
     },
     "execution_count": 33,
     "metadata": {},
     "output_type": "execute_result"
    }
   ],
   "source": [
    "overall_likes_stmu.count()"
   ]
  },
  {
   "cell_type": "markdown",
   "metadata": {},
   "source": [
    "Here we can observe that we have Musk tweets from 279 days."
   ]
  },
  {
   "cell_type": "markdown",
   "metadata": {},
   "source": [
    "# Data exploration and evaluation"
   ]
  },
  {
   "cell_type": "markdown",
   "metadata": {},
   "source": [
    "### Hypothesis 1"
   ]
  },
  {
   "cell_type": "code",
   "execution_count": 34,
   "metadata": {},
   "outputs": [],
   "source": [
    "#Importing necessary for evaluation and visuzlization libraries\n",
    "import seaborn as sns\n",
    "import matplotlib.pyplot as plt\n",
    "import matplotlib.dates as dates\n",
    "import matplotlib as mpl\n",
    "import numpy as np\n",
    "from scipy import stats, integrate\n",
    "%matplotlib inline"
   ]
  },
  {
   "cell_type": "markdown",
   "metadata": {},
   "source": [
    "For the first hypothesis we are going to perform vizulization and evaluation of df_musk and df_tesla dataframes, variables engagement of each dataframe.\n",
    "##### Tesla descriptive statistic"
   ]
  },
  {
   "cell_type": "code",
   "execution_count": 35,
   "metadata": {
    "scrolled": false
   },
   "outputs": [
    {
     "data": {
      "text/html": [
       "<div>\n",
       "<style scoped>\n",
       "    .dataframe tbody tr th:only-of-type {\n",
       "        vertical-align: middle;\n",
       "    }\n",
       "\n",
       "    .dataframe tbody tr th {\n",
       "        vertical-align: top;\n",
       "    }\n",
       "\n",
       "    .dataframe thead th {\n",
       "        text-align: right;\n",
       "    }\n",
       "</style>\n",
       "<table border=\"1\" class=\"dataframe\">\n",
       "  <thead>\n",
       "    <tr style=\"text-align: right;\">\n",
       "      <th></th>\n",
       "      <th>len</th>\n",
       "      <th>id</th>\n",
       "      <th>Likes</th>\n",
       "      <th>RTs</th>\n",
       "      <th>engagement</th>\n",
       "    </tr>\n",
       "  </thead>\n",
       "  <tbody>\n",
       "    <tr>\n",
       "      <th>count</th>\n",
       "      <td>3203.000000</td>\n",
       "      <td>3.203000e+03</td>\n",
       "      <td>3203.000000</td>\n",
       "      <td>3203.000000</td>\n",
       "      <td>3203.000000</td>\n",
       "    </tr>\n",
       "    <tr>\n",
       "      <th>mean</th>\n",
       "      <td>86.098345</td>\n",
       "      <td>6.520478e+17</td>\n",
       "      <td>1321.028099</td>\n",
       "      <td>571.300656</td>\n",
       "      <td>1892.328754</td>\n",
       "    </tr>\n",
       "    <tr>\n",
       "      <th>std</th>\n",
       "      <td>40.462296</td>\n",
       "      <td>2.094794e+17</td>\n",
       "      <td>5974.988709</td>\n",
       "      <td>3700.210003</td>\n",
       "      <td>7929.811475</td>\n",
       "    </tr>\n",
       "    <tr>\n",
       "      <th>min</th>\n",
       "      <td>8.000000</td>\n",
       "      <td>4.539748e+17</td>\n",
       "      <td>0.000000</td>\n",
       "      <td>0.000000</td>\n",
       "      <td>0.000000</td>\n",
       "    </tr>\n",
       "    <tr>\n",
       "      <th>25%</th>\n",
       "      <td>54.000000</td>\n",
       "      <td>4.815491e+17</td>\n",
       "      <td>0.000000</td>\n",
       "      <td>0.000000</td>\n",
       "      <td>1.000000</td>\n",
       "    </tr>\n",
       "    <tr>\n",
       "      <th>50%</th>\n",
       "      <td>81.000000</td>\n",
       "      <td>5.630346e+17</td>\n",
       "      <td>6.000000</td>\n",
       "      <td>4.000000</td>\n",
       "      <td>38.000000</td>\n",
       "    </tr>\n",
       "    <tr>\n",
       "      <th>75%</th>\n",
       "      <td>120.000000</td>\n",
       "      <td>7.815353e+17</td>\n",
       "      <td>396.500000</td>\n",
       "      <td>268.000000</td>\n",
       "      <td>796.500000</td>\n",
       "    </tr>\n",
       "    <tr>\n",
       "      <th>max</th>\n",
       "      <td>329.000000</td>\n",
       "      <td>1.104154e+18</td>\n",
       "      <td>203837.000000</td>\n",
       "      <td>168526.000000</td>\n",
       "      <td>245900.000000</td>\n",
       "    </tr>\n",
       "  </tbody>\n",
       "</table>\n",
       "</div>"
      ],
      "text/plain": [
       "               len            id          Likes            RTs     engagement\n",
       "count  3203.000000  3.203000e+03    3203.000000    3203.000000    3203.000000\n",
       "mean     86.098345  6.520478e+17    1321.028099     571.300656    1892.328754\n",
       "std      40.462296  2.094794e+17    5974.988709    3700.210003    7929.811475\n",
       "min       8.000000  4.539748e+17       0.000000       0.000000       0.000000\n",
       "25%      54.000000  4.815491e+17       0.000000       0.000000       1.000000\n",
       "50%      81.000000  5.630346e+17       6.000000       4.000000      38.000000\n",
       "75%     120.000000  7.815353e+17     396.500000     268.000000     796.500000\n",
       "max     329.000000  1.104154e+18  203837.000000  168526.000000  245900.000000"
      ]
     },
     "execution_count": 35,
     "metadata": {},
     "output_type": "execute_result"
    }
   ],
   "source": [
    "df_tesla.describe()"
   ]
  },
  {
   "cell_type": "markdown",
   "metadata": {},
   "source": [
    "The descriptive statistic of Tesla twitter account shows that total amount of tweets is 3203. "
   ]
  },
  {
   "cell_type": "code",
   "execution_count": 36,
   "metadata": {},
   "outputs": [
    {
     "data": {
      "text/plain": [
       "count      3203.000000\n",
       "mean       1892.328754\n",
       "std        7929.811475\n",
       "min           0.000000\n",
       "25%           1.000000\n",
       "50%          38.000000\n",
       "75%         796.500000\n",
       "max      245900.000000\n",
       "Name: engagement, dtype: float64"
      ]
     },
     "execution_count": 36,
     "metadata": {},
     "output_type": "execute_result"
    }
   ],
   "source": [
    "df_tesla['engagement'].describe()"
   ]
  },
  {
   "cell_type": "code",
   "execution_count": 37,
   "metadata": {},
   "outputs": [
    {
     "data": {
      "text/plain": [
       "245900"
      ]
     },
     "execution_count": 37,
     "metadata": {},
     "output_type": "execute_result"
    }
   ],
   "source": [
    "max(df_tesla['engagement'])"
   ]
  },
  {
   "cell_type": "markdown",
   "metadata": {},
   "source": [
    "Statistic of Tesla engagement shows that maximum number of combined retweets and likes is 245900, M = 1892.35, SD = 7929.81. "
   ]
  },
  {
   "cell_type": "markdown",
   "metadata": {},
   "source": [
    "The distplot shows how Tesla tweets stimulate customer engagement."
   ]
  },
  {
   "cell_type": "code",
   "execution_count": 67,
   "metadata": {
    "scrolled": true
   },
   "outputs": [
    {
     "data": {
      "text/plain": [
       "(array([  0.,  50., 100., 150., 200., 250., 300.]),\n",
       " <a list of 7 Text yticklabel objects>)"
      ]
     },
     "execution_count": 67,
     "metadata": {},
     "output_type": "execute_result"
    },
    {
     "data": {
      "image/png": "[encoded data removed]",
      "text/plain": [
       "<Figure size 720x432 with 1 Axes>"
      ]
     },
     "metadata": {},
     "output_type": "display_data"
    }
   ],
   "source": [
    "#The values are pretty high therefore we will limit x and y axes\n",
    "sns.distplot(df_tesla['engagement'], bins=90, kde=False);\n",
    "plt.ylim(0, 300)\n",
    "plt.xlim(0, 30000)\n",
    "plt.rcParams[\"figure.figsize\"] = (10, 6)\n",
    "plt.xticks(fontsize=13)\n",
    "plt.yticks(fontsize=13)"
   ]
  },
  {
   "cell_type": "markdown",
   "metadata": {},
   "source": [
    "Tesla distplot shows high distribution of combined likes and retweets per tweet."
   ]
  },
  {
   "cell_type": "markdown",
   "metadata": {},
   "source": [
    "##### Musk descriptive statistic"
   ]
  },
  {
   "cell_type": "code",
   "execution_count": 39,
   "metadata": {
    "scrolled": true
   },
   "outputs": [
    {
     "data": {
      "text/html": [
       "<div>\n",
       "<style scoped>\n",
       "    .dataframe tbody tr th:only-of-type {\n",
       "        vertical-align: middle;\n",
       "    }\n",
       "\n",
       "    .dataframe tbody tr th {\n",
       "        vertical-align: top;\n",
       "    }\n",
       "\n",
       "    .dataframe thead th {\n",
       "        text-align: right;\n",
       "    }\n",
       "</style>\n",
       "<table border=\"1\" class=\"dataframe\">\n",
       "  <thead>\n",
       "    <tr style=\"text-align: right;\">\n",
       "      <th></th>\n",
       "      <th>len</th>\n",
       "      <th>id</th>\n",
       "      <th>Likes</th>\n",
       "      <th>RTs</th>\n",
       "      <th>engagement</th>\n",
       "    </tr>\n",
       "  </thead>\n",
       "  <tbody>\n",
       "    <tr>\n",
       "      <th>count</th>\n",
       "      <td>3219.000000</td>\n",
       "      <td>3.219000e+03</td>\n",
       "      <td>3.219000e+03</td>\n",
       "      <td>3219.000000</td>\n",
       "      <td>3.219000e+03</td>\n",
       "    </tr>\n",
       "    <tr>\n",
       "      <th>mean</th>\n",
       "      <td>102.345449</td>\n",
       "      <td>1.032615e+18</td>\n",
       "      <td>1.855859e+04</td>\n",
       "      <td>2914.144455</td>\n",
       "      <td>2.147274e+04</td>\n",
       "    </tr>\n",
       "    <tr>\n",
       "      <th>std</th>\n",
       "      <td>72.192835</td>\n",
       "      <td>4.247776e+16</td>\n",
       "      <td>5.230721e+04</td>\n",
       "      <td>12049.119852</td>\n",
       "      <td>6.304085e+04</td>\n",
       "    </tr>\n",
       "    <tr>\n",
       "      <th>min</th>\n",
       "      <td>1.000000</td>\n",
       "      <td>9.389471e+17</td>\n",
       "      <td>0.000000e+00</td>\n",
       "      <td>4.000000</td>\n",
       "      <td>1.530000e+02</td>\n",
       "    </tr>\n",
       "    <tr>\n",
       "      <th>25%</th>\n",
       "      <td>42.000000</td>\n",
       "      <td>1.001226e+18</td>\n",
       "      <td>7.535000e+02</td>\n",
       "      <td>49.500000</td>\n",
       "      <td>1.021000e+03</td>\n",
       "    </tr>\n",
       "    <tr>\n",
       "      <th>50%</th>\n",
       "      <td>88.000000</td>\n",
       "      <td>1.026201e+18</td>\n",
       "      <td>1.986000e+03</td>\n",
       "      <td>248.000000</td>\n",
       "      <td>2.702000e+03</td>\n",
       "    </tr>\n",
       "    <tr>\n",
       "      <th>75%</th>\n",
       "      <td>140.000000</td>\n",
       "      <td>1.069858e+18</td>\n",
       "      <td>1.388950e+04</td>\n",
       "      <td>1704.500000</td>\n",
       "      <td>1.532400e+04</td>\n",
       "    </tr>\n",
       "    <tr>\n",
       "      <th>max</th>\n",
       "      <td>391.000000</td>\n",
       "      <td>1.104517e+18</td>\n",
       "      <td>1.209433e+06</td>\n",
       "      <td>389921.000000</td>\n",
       "      <td>1.599354e+06</td>\n",
       "    </tr>\n",
       "  </tbody>\n",
       "</table>\n",
       "</div>"
      ],
      "text/plain": [
       "               len            id         Likes            RTs    engagement\n",
       "count  3219.000000  3.219000e+03  3.219000e+03    3219.000000  3.219000e+03\n",
       "mean    102.345449  1.032615e+18  1.855859e+04    2914.144455  2.147274e+04\n",
       "std      72.192835  4.247776e+16  5.230721e+04   12049.119852  6.304085e+04\n",
       "min       1.000000  9.389471e+17  0.000000e+00       4.000000  1.530000e+02\n",
       "25%      42.000000  1.001226e+18  7.535000e+02      49.500000  1.021000e+03\n",
       "50%      88.000000  1.026201e+18  1.986000e+03     248.000000  2.702000e+03\n",
       "75%     140.000000  1.069858e+18  1.388950e+04    1704.500000  1.532400e+04\n",
       "max     391.000000  1.104517e+18  1.209433e+06  389921.000000  1.599354e+06"
      ]
     },
     "execution_count": 39,
     "metadata": {},
     "output_type": "execute_result"
    }
   ],
   "source": [
    "df_musk.describe()"
   ]
  },
  {
   "cell_type": "markdown",
   "metadata": {},
   "source": [
    "The descriptive statistic of Musk twitter account shows that total amount of tweets is 3219. The sample size of the group  Musk's post is almost equal to the sample size of the group Tesla posts what means that there is no need for Leven's test equality of variance.\n"
   ]
  },
  {
   "cell_type": "code",
   "execution_count": 40,
   "metadata": {},
   "outputs": [
    {
     "data": {
      "text/plain": [
       "count    3.219000e+03\n",
       "mean     2.147274e+04\n",
       "std      6.304085e+04\n",
       "min      1.530000e+02\n",
       "25%      1.021000e+03\n",
       "50%      2.702000e+03\n",
       "75%      1.532400e+04\n",
       "max      1.599354e+06\n",
       "Name: engagement, dtype: float64"
      ]
     },
     "execution_count": 40,
     "metadata": {},
     "output_type": "execute_result"
    }
   ],
   "source": [
    "df_musk['engagement'].describe()"
   ]
  },
  {
   "cell_type": "code",
   "execution_count": 41,
   "metadata": {},
   "outputs": [
    {
     "data": {
      "text/plain": [
       "1599354"
      ]
     },
     "execution_count": 41,
     "metadata": {},
     "output_type": "execute_result"
    }
   ],
   "source": [
    "max(df_musk['engagement'])"
   ]
  },
  {
   "cell_type": "markdown",
   "metadata": {},
   "source": [
    "Statistic of Musk engagement shows that maximum number of combined retweets and likes is 1599354, M = 2.147274e+04, SD = 6.304085e+04. All these numbers are really high and judging by descriptives higher than Tesla engagement. \n",
    " "
   ]
  },
  {
   "cell_type": "markdown",
   "metadata": {},
   "source": [
    "The distplot shows how Musk tweets stimulate customer engagement."
   ]
  },
  {
   "cell_type": "code",
   "execution_count": 107,
   "metadata": {
    "scrolled": false
   },
   "outputs": [
    {
     "data": {
      "text/plain": [
       "(array([  0., 100., 200., 300., 400., 500.]),\n",
       " <a list of 6 Text yticklabel objects>)"
      ]
     },
     "execution_count": 107,
     "metadata": {},
     "output_type": "execute_result"
    },
    {
     "data": {
      "image/png": "[encoded data removed]",
      "text/plain": [
       "<Figure size 720x432 with 1 Axes>"
      ]
     },
     "metadata": {},
     "output_type": "display_data"
    }
   ],
   "source": [
    "#The maximum engagement value which one of the tweet of Musk account is 1.5 million (combined retweets and likes). \n",
    "#Therefore, we have to limit x and y axes values of distplot to get readible graph.\n",
    "sns.distplot(df_tesla['engagement'], bins=90, kde=False);\n",
    "plt.ylim(0, 500)\n",
    "plt.xlim(0, 30000)\n",
    "plt.rcParams[\"figure.figsize\"] = (10, 6)\n",
    "plt.xticks(fontsize=13)\n",
    "plt.yticks(fontsize=13)"
   ]
  },
  {
   "cell_type": "markdown",
   "metadata": {},
   "source": [
    "The distplot for Musk group shows extremely high distribution of engagement per tweet. The values per every tweet in Musk group are much higher than in Tesla group.\n"
   ]
  },
  {
   "cell_type": "markdown",
   "metadata": {},
   "source": [
    "Checking groups for outliers"
   ]
  },
  {
   "cell_type": "code",
   "execution_count": 72,
   "metadata": {
    "scrolled": true
   },
   "outputs": [
    {
     "data": {
      "image/png": "[encoded data removed]",
      "text/plain": [
       "<Figure size 720x432 with 1 Axes>"
      ]
     },
     "metadata": {},
     "output_type": "display_data"
    }
   ],
   "source": [
    "sns.boxplot(df_musk['engagement']);"
   ]
  },
  {
   "cell_type": "markdown",
   "metadata": {},
   "source": [
    "From the musk engagement boxplot we can observe several outliers but we will do not anything with them because without them we will not get fully representative results. Also, these outliers may represent the viral conten what is good for engagement level."
   ]
  },
  {
   "cell_type": "code",
   "execution_count": 64,
   "metadata": {
    "scrolled": true
   },
   "outputs": [
    {
     "data": {
      "image/png": "[encoded data removed]",
      "text/plain": [
       "<Figure size 720x432 with 1 Axes>"
      ]
     },
     "metadata": {},
     "output_type": "display_data"
    }
   ],
   "source": [
    "sns.boxplot(df_tesla['engagement']);"
   ]
  },
  {
   "cell_type": "markdown",
   "metadata": {},
   "source": [
    "Tesla engagement boxplot is also present some outliers but we also have to leave them because without them we will not get fully representative results. "
   ]
  },
  {
   "cell_type": "markdown",
   "metadata": {},
   "source": [
    "### Hypothesis 2\n",
    "For the second hypothesis we will perform vizualization for stock price variable 'close' and for approval variable 'likes'. To find correlation between stock price and approval we chose to analyse the price of the stock at the end of each day of given period and also compute overall number of likes for one specific day.\n",
    "\n",
    "We chose Likes as a measurement for level of approval (not retweets or engagement) because users use retweets not only to show the approval but also to crtique the person of the initial post, thus engagement scale which includes tweets does not suit analysis as well."
   ]
  },
  {
   "cell_type": "code",
   "execution_count": 84,
   "metadata": {},
   "outputs": [
    {
     "data": {
      "text/plain": [
       "Date     279\n",
       "close    279\n",
       "Likes    279\n",
       "dtype: int64"
      ]
     },
     "execution_count": 84,
     "metadata": {},
     "output_type": "execute_result"
    }
   ],
   "source": [
    "overall_likes_stmu.count()"
   ]
  },
  {
   "cell_type": "markdown",
   "metadata": {},
   "source": [
    "The information above shows us that we have data of stock price and likes for 279 days.\n",
    "##### Likes descriptives"
   ]
  },
  {
   "cell_type": "code",
   "execution_count": 43,
   "metadata": {},
   "outputs": [
    {
     "data": {
      "text/plain": [
       "1363072"
      ]
     },
     "execution_count": 43,
     "metadata": {},
     "output_type": "execute_result"
    }
   ],
   "source": [
    "max(overall_likes_stmu['Likes'])"
   ]
  },
  {
   "cell_type": "code",
   "execution_count": 81,
   "metadata": {},
   "outputs": [
    {
     "data": {
      "text/plain": [
       "0"
      ]
     },
     "execution_count": 81,
     "metadata": {},
     "output_type": "execute_result"
    }
   ],
   "source": [
    "min(overall_likes_stmu['Likes'])"
   ]
  },
  {
   "cell_type": "code",
   "execution_count": 87,
   "metadata": {},
   "outputs": [
    {
     "data": {
      "text/plain": [
       "count    2.790000e+02\n",
       "mean     1.437846e+05\n",
       "std      1.979895e+05\n",
       "min      0.000000e+00\n",
       "25%      1.923400e+04\n",
       "50%      7.458800e+04\n",
       "75%      1.876720e+05\n",
       "max      1.363072e+06\n",
       "Name: Likes, dtype: float64"
      ]
     },
     "execution_count": 87,
     "metadata": {},
     "output_type": "execute_result"
    }
   ],
   "source": [
    "overall_likes_stmu['Likes'].describe()"
   ]
  },
  {
   "cell_type": "markdown",
   "metadata": {},
   "source": [
    "The maximum number of likes in one of the day were equal 1363072. The minimum is zero. M = 71.89.\n"
   ]
  },
  {
   "cell_type": "code",
   "execution_count": 88,
   "metadata": {
    "scrolled": true
   },
   "outputs": [
    {
     "data": {
      "text/plain": [
       "<matplotlib.axes._subplots.AxesSubplot at 0x12ed255cc50>"
      ]
     },
     "execution_count": 88,
     "metadata": {},
     "output_type": "execute_result"
    },
    {
     "data": {
      "image/png": "[encoded data removed]",
      "text/plain": [
       "<Figure size 720x432 with 1 Axes>"
      ]
     },
     "metadata": {},
     "output_type": "display_data"
    }
   ],
   "source": [
    "overall_likes_stmu[['Likes']].plot()"
   ]
  },
  {
   "cell_type": "markdown",
   "metadata": {},
   "source": [
    "This plot shows distribution of likes over the given period (279 days). This plot shows pretty stable tendency in number of likes over 279 days. However, we also can see three days which have higher number of likes, probably some of the posts have gone viral."
   ]
  },
  {
   "cell_type": "code",
   "execution_count": 89,
   "metadata": {},
   "outputs": [
    {
     "name": "stderr",
     "output_type": "stream",
     "text": [
      "C:\\Users\\witty\\Anaconda3\\lib\\site-packages\\scipy\\stats\\stats.py:1713: FutureWarning: Using a non-tuple sequence for multidimensional indexing is deprecated; use `arr[tuple(seq)]` instead of `arr[seq]`. In the future this will be interpreted as an array index, `arr[np.array(seq)]`, which will result either in an error or a different result.\n",
      "  return np.add.reduce(sorted[indexer] * weights, axis=axis) / sumval\n"
     ]
    },
    {
     "data": {
      "image/png": "[encoded data removed]",
      "text/plain": [
       "<Figure size 720x432 with 1 Axes>"
      ]
     },
     "metadata": {},
     "output_type": "display_data"
    }
   ],
   "source": [
    "sns.distplot(overall_likes_stmu[\"Likes\"]);"
   ]
  },
  {
   "cell_type": "markdown",
   "metadata": {},
   "source": [
    "The distribution graph shows that there are many posts that have close to zero number of likes and that there are very little post with more than 500000 number of likes."
   ]
  },
  {
   "cell_type": "markdown",
   "metadata": {},
   "source": [
    "##### Close (low stock price) descriptives"
   ]
  },
  {
   "cell_type": "code",
   "execution_count": 44,
   "metadata": {},
   "outputs": [
    {
     "data": {
      "text/plain": [
       "379.57"
      ]
     },
     "execution_count": 44,
     "metadata": {},
     "output_type": "execute_result"
    }
   ],
   "source": [
    "max(overall_likes_stmu['close'])"
   ]
  },
  {
   "cell_type": "code",
   "execution_count": 79,
   "metadata": {},
   "outputs": [
    {
     "data": {
      "text/plain": [
       "250.56"
      ]
     },
     "execution_count": 79,
     "metadata": {},
     "output_type": "execute_result"
    }
   ],
   "source": [
    "min(overall_likes_stmu['close'])"
   ]
  },
  {
   "cell_type": "code",
   "execution_count": 85,
   "metadata": {},
   "outputs": [
    {
     "data": {
      "text/plain": [
       "count    279.000000\n",
       "mean     315.673154\n",
       "std       27.739094\n",
       "min      250.560000\n",
       "25%      295.885000\n",
       "50%      315.130000\n",
       "75%      338.710000\n",
       "max      379.570000\n",
       "Name: close, dtype: float64"
      ]
     },
     "execution_count": 85,
     "metadata": {},
     "output_type": "execute_result"
    }
   ],
   "source": [
    "overall_likes_stmu['close'].describe()"
   ]
  },
  {
   "cell_type": "markdown",
   "metadata": {},
   "source": [
    "The highest stock price at the end of the day was 379.57. The lowest is 250.56. M = 315.67."
   ]
  },
  {
   "cell_type": "code",
   "execution_count": 48,
   "metadata": {
    "scrolled": true
   },
   "outputs": [
    {
     "data": {
      "text/plain": [
       "<matplotlib.axes._subplots.AxesSubplot at 0x12ecee52240>"
      ]
     },
     "execution_count": 48,
     "metadata": {},
     "output_type": "execute_result"
    },
    {
     "data": {
      "image/png": "[encoded data removed]",
      "text/plain": [
       "<Figure size 720x432 with 1 Axes>"
      ]
     },
     "metadata": {},
     "output_type": "display_data"
    }
   ],
   "source": [
    "overall_likes_stmu[['close']].plot()"
   ]
  },
  {
   "cell_type": "markdown",
   "metadata": {},
   "source": [
    "This plot shows stock price(end of the day) distribution over the given period (279 days). This plot shows some salient declines."
   ]
  },
  {
   "cell_type": "code",
   "execution_count": 91,
   "metadata": {},
   "outputs": [
    {
     "data": {
      "image/png": "[encoded data removed]",
      "text/plain": [
       "<Figure size 720x432 with 1 Axes>"
      ]
     },
     "metadata": {},
     "output_type": "display_data"
    }
   ],
   "source": [
    "sns.distplot(overall_likes_stmu[\"close\"]);"
   ]
  },
  {
   "cell_type": "markdown",
   "metadata": {},
   "source": [
    "From the distplot above we can see bimodal stock price distribution."
   ]
  },
  {
   "cell_type": "markdown",
   "metadata": {},
   "source": [
    "##### Likes and stock price "
   ]
  },
  {
   "cell_type": "code",
   "execution_count": 105,
   "metadata": {},
   "outputs": [],
   "source": [
    "#we should normilize values to get more clear graph\n",
    "overall_likes_stmu['Likes_norm'] = overall_likes_stmu['Likes'] * .0001"
   ]
  },
  {
   "cell_type": "code",
   "execution_count": 106,
   "metadata": {},
   "outputs": [
    {
     "data": {
      "text/plain": [
       "<matplotlib.axes._subplots.AxesSubplot at 0x12eda0cbc50>"
      ]
     },
     "execution_count": 106,
     "metadata": {},
     "output_type": "execute_result"
    },
    {
     "data": {
      "image/png": "[encoded data removed]",
      "text/plain": [
       "<Figure size 720x432 with 1 Axes>"
      ]
     },
     "metadata": {},
     "output_type": "display_data"
    }
   ],
   "source": [
    "overall_likes_stmu[['close', 'Likes_norm']].plot()"
   ]
  },
  {
   "cell_type": "markdown",
   "metadata": {},
   "source": [
    "The interesting thing is that the biggest and longest decline falls into the same days where were obseved the highest number of likes (from day 150 to day 200)"
   ]
  },
  {
   "cell_type": "markdown",
   "metadata": {},
   "source": [
    "The linear regression plot is showed below."
   ]
  },
  {
   "cell_type": "code",
   "execution_count": 78,
   "metadata": {
    "scrolled": false
   },
   "outputs": [
    {
     "data": {
      "image/png": "[encoded data removed]",
      "text/plain": [
       "<Figure size 720x432 with 1 Axes>"
      ]
     },
     "metadata": {},
     "output_type": "display_data"
    }
   ],
   "source": [
    "sns.regplot(x=\"Likes\", y=\"close\", data=overall_likes_stmu);"
   ]
  },
  {
   "cell_type": "markdown",
   "metadata": {},
   "source": [
    "This is the poor scatterplot diagram with a bad model fit line. There are far less data values to the right of 600000 on the horizontal axis. As a result, most of the right side of the chart is empty and all the data values are squeezed against the left side of the chart. There are some outliers on the right side of the plot which we left to get more representative results. Scatterplot shows very weak negative correlation between number of likes and stock price though it should be tested with OLS regression."
   ]
  },
  {
   "cell_type": "markdown",
   "metadata": {},
   "source": [
    "## Modeling and hypotheses testing\n",
    "### Testing hypothesis 1\n",
    "To test hypothesis 1 we chose t-test.\n",
    "\n",
    "H1.   Tweets from Elon Musk about Tesla receive more customer engagement on Twitter than tweets from the official Tesla account.\n",
    "\n",
    "There are two categorical independent variables – two groups. The first group is posts from the Elon Musk twitter account, the second group is posts from the Tesla company official twitter account. Posts were taken as units of analyzation. The continuous dependent variable is customer engagement. Two different groups of independent variables allow us to conduct the independent T-test. The significant differences in means which we observed from descriptive statistics above should be confirmed with statistical testing.\n",
    "\n",
    "\n"
   ]
  },
  {
   "cell_type": "code",
   "execution_count": 55,
   "metadata": {},
   "outputs": [],
   "source": [
    "from scipy.stats import ttest_ind"
   ]
  },
  {
   "cell_type": "code",
   "execution_count": 56,
   "metadata": {},
   "outputs": [],
   "source": [
    "group1 = df_musk[['engagement']]\n",
    "group2 = df_tesla[['engagement']]"
   ]
  },
  {
   "cell_type": "code",
   "execution_count": 57,
   "metadata": {},
   "outputs": [
    {
     "name": "stdout",
     "output_type": "stream",
     "text": [
      "3219 3203 0.5012457178449081\n"
     ]
    }
   ],
   "source": [
    "#Running independent t-test\n",
    "print(len(group1), len(group2), len(group1) / (len(group1) + len(group2)))"
   ]
  },
  {
   "cell_type": "code",
   "execution_count": 58,
   "metadata": {},
   "outputs": [],
   "source": [
    "results_h1 = ttest_ind(group1.values, group2.values)"
   ]
  },
  {
   "cell_type": "code",
   "execution_count": 59,
   "metadata": {
    "scrolled": false
   },
   "outputs": [
    {
     "data": {
      "text/plain": [
       "Ttest_indResult(statistic=array([17.44158271]), pvalue=array([1.34335621e-66]))"
      ]
     },
     "execution_count": 59,
     "metadata": {},
     "output_type": "execute_result"
    }
   ],
   "source": [
    "results_h1"
   ]
  },
  {
   "cell_type": "markdown",
   "metadata": {},
   "source": [
    "Groups have equal size. T-tested showed significant result (p < 0.05, t = 17.4). Posts by Musk account (M=21472.73, SD=63040.85, N= 3219) significantly larger than posts by Tesla account (M=1892.32, SD = 7929.81, N= 3203). Result of the t-test supported the first hypothesis - posts by Musk lead to higher engagement level than post by Tesla company."
   ]
  },
  {
   "cell_type": "markdown",
   "metadata": {},
   "source": [
    "### Testing hypothesis 2\n",
    "For the second hypothesis we chose to run Linear regression analysis.\n",
    "We chose this analysis because: first, we want to establish prediction, second, both of our variables are continous. Likes is a continious independent variable (with values from 0 to 1.3 million likes), close is also a continious dependent variable with maximum value 379.57. "
   ]
  },
  {
   "cell_type": "code",
   "execution_count": 60,
   "metadata": {},
   "outputs": [],
   "source": [
    "#importin necessary modules\n",
    "import statsmodels.api as sm\n",
    "import statsmodels.formula.api as smf"
   ]
  },
  {
   "cell_type": "code",
   "execution_count": 61,
   "metadata": {},
   "outputs": [
    {
     "name": "stdout",
     "output_type": "stream",
     "text": [
      "                            OLS Regression Results                            \n",
      "==============================================================================\n",
      "Dep. Variable:                  close   R-squared:                       0.015\n",
      "Model:                            OLS   Adj. R-squared:                  0.011\n",
      "Method:                 Least Squares   F-statistic:                     4.127\n",
      "Date:                Fri, 22 Mar 2019   Prob (F-statistic):             0.0431\n",
      "Time:                        11:37:19   Log-Likelihood:                -1320.4\n",
      "No. Observations:                 279   AIC:                             2645.\n",
      "Df Residuals:                     277   BIC:                             2652.\n",
      "Df Model:                           1                                         \n",
      "Covariance Type:            nonrobust                                         \n",
      "==============================================================================\n",
      "                 coef    std err          t      P>|t|      [0.025      0.975]\n",
      "------------------------------------------------------------------------------\n",
      "const        318.1141      2.042    155.767      0.000     314.094     322.134\n",
      "Likes      -1.698e-05   8.36e-06     -2.032      0.043   -3.34e-05   -5.27e-07\n",
      "==============================================================================\n",
      "Omnibus:                       15.362   Durbin-Watson:                   0.187\n",
      "Prob(Omnibus):                  0.000   Jarque-Bera (JB):                6.699\n",
      "Skew:                          -0.098   Prob(JB):                       0.0351\n",
      "Kurtosis:                       2.267   Cond. No.                     3.02e+05\n",
      "==============================================================================\n",
      "\n",
      "Warnings:\n",
      "[1] Standard Errors assume that the covariance matrix of the errors is correctly specified.\n",
      "[2] The condition number is large, 3.02e+05. This might indicate that there are\n",
      "strong multicollinearity or other numerical problems.\n"
     ]
    }
   ],
   "source": [
    "#Running linear regression analysis\n",
    "reg1 = sm.OLS(overall_likes_stmu['close'], sm.add_constant(overall_likes_stmu['Likes']))\n",
    "result_reg1 = reg1.fit()\n",
    "print(result_reg1.summary())"
   ]
  },
  {
   "cell_type": "markdown",
   "metadata": {},
   "source": [
    "The OLS model for the hypothesis 2 is significant(F = 4.127, p = 0.04). This means that the model can predict changes of Tesla stock price by measuring level of Elon Musk approval (Likes). However, the model is marginally significant and the strenght of prediction is weak. The model explains only 1.5% of the variance (R^2=.015) and shows that this is not a good model. The predictor Likes showed negative relationship (b = -0.00001698).For every unit increase in likes stocks will decrease by -0.00001698 units (t=-2.032,p<0.05). We can see the correlation of two variables but relationship is negative in its nature therefore Hypothesis 2 was not supported. "
   ]
  },
  {
   "cell_type": "markdown",
   "metadata": {},
   "source": [
    "## Evaluation\n",
    "The obtained results allow us to answer the research question. First, the tweets from Elon Musk twitter account leads to higher level of engagement than tweets from Tesla company account. This goes in line with the McCracken study and proves that Tesla cars are greatly associated with CEO of Tesla company Elon Musk. Also, it proves that Elon Musk account has the higher level of post reach and therefore the higher level of connection with his followers. Summing up, these all can be interpreted like this: when someone say Tesla you think firstly about Musk, not about Tesla car range.\n",
    "\n",
    "This first supported assumption gave us the right to check whether Musk account correlates with Tesla success and therefore Tesla stock price. Regression analysis showed that the number of likes of Elon Musk twitter account is correlated with Tesla company stock price but relationship between likes and stock price is negative what makes us reject Hypothesis 2. \n",
    "\n",
    "The results we got means that with every tweet which gets above the average number of likes per day Tesla stock price goes down. This result does not go in line with any theory, moreover, significance of the model as whole is yet marginal what means that there is possibility to neglect any correlation between these two variables. \n",
    "\n",
    "We rejected correlation between Elon Musk tweets and Tesla stock price and therefore we do not recommend Tesla director’s board to control for every Elon Musk tweet. Moreover, Musk as a symbol of Tesla company (Aaker, 1997)  provide Tesla company with more brand recognition, and extremely high level of engagement on his twitter is only a plus for company success. \n",
    "\n",
    "Word counts: 279\n"
   ]
  },
  {
   "cell_type": "markdown",
   "metadata": {},
   "source": [
    "## Limitations\n",
    "-\tThe posts from Elon Musk tweeter account contains not only posts about Tesla car but also about SpaceX, Boring Company and tweets on different topics. This means that Tesla company account tweets are more narrowed and address to one specific customer type which does not represent the whole population.\n",
    "-\tMusk account has significantly high engagement (the higher number of likes and retweets) this is because of unequal number of followers. However, we took an equal number of posts from both accounts what gave us the right to compare means and to prove what we want to prove – different levels of engagement. \n",
    "-\tWe measured engagement with two combined items – likes and retweets, though each component was not tested separately. The separate measurement could give different result.\n",
    "-\tThe engagement values for Elon Musk tweets are too high for the proper visualization (one of the tweets reaches 1,5 million combined likes and retweets) \n",
    "-\tThese two account are really popular what makes them the tarhet for bots and other spammers. The two circumstances shoul be under control for more clear results.\n",
    "- The regression analysis showed marginally significant result.\n",
    "\n",
    "## Next steps\n",
    "1.\tThe next study may compare engagements from different twitter account companies (SpaceX, The Boring Company) with which Elon Musk is associated as well. \n",
    "2. The next study may measure retweets and likes separately to understand whether there are different inclinations and tendencies.\n",
    "2.\tTo avoid low significanse of OLS the content (context) of the tweets and mentions of Elon Musk should be taken into consideration and treated as moderator variable.\n",
    "3.\tThe next study may compare engagements from different twitter account companies (SpaceX, The Boring Company) with which Elon Musk is associated as well. t\n",
    "5.\tIt is necessary to replicate the study with the upgraded Twitter API, because it will allow to make sentiment analysis on the comment which will be get with Musk and \n",
    "6. Stock price shwows temporal dynamics therefore Time series analysis should be taken into account.\n",
    "\n",
    "Word counts: 337\n"
   ]
  },
  {
   "cell_type": "markdown",
   "metadata": {},
   "source": [
    "## Ethical, Privacy and Normative Considerations\n",
    "Without doubt there are some ethical and privacy issues when it comes to Twitter data collection. First of all, despite the fact that all users ‘sign’ a consent form upon the registration in any social media network, not all of them actually read this form because of its complexity and length. So, here we get an ethical dilemma - people do not aware that they have agreed their data to be collected for example, for research purposes. Or there is another situation, when users do not know that their account is public. Moreover, there is a difference between being in public and being public (actively capture attention) which social media sites do not distinguish (boyd & Marwick, 2011). Users usually expect some level of privacy when they involve in Twitter(Ahmed, Bath & Demartini, 2017).\n",
    "\n",
    "Twitter allows to limit access to user’s personal data, but it may affect the positive experience on the site because access to the most functions turns out to be restricted. This does not seem ethical as well (van den Hoven et al., 2014).\n",
    "Twitter API privacy policy ensures that tokens and keys cannot be available for a third party (Developer Agreement and Policy, 2018) however the leakage of these information is still possible what may bring problem to my personal data and data of users which were collected.\n",
    "\n",
    "The absence of consent from users whose data were collected is not normatively correct. (Williams, Burnap &Sloan, 2017). Moreover, the GDPR regulation is also stated that it is important to inform users that their data were collected for specific purposes/research. (ESOMAR, 2017) However, in fact this rule is violated because users are never informed that their data were collected for a specific research project.\n",
    "\n",
    "Twitter policy allows to create a Twitter account only if a person has reached at least 13 years old but according to data protection requirements for researchers it is not allowed to use data of individuals under 17 years old without their parents consent(ESOMAR,2017).\n",
    "\n",
    "Words count: 332\n"
   ]
  },
  {
   "cell_type": "markdown",
   "metadata": {},
   "source": [
    "## References\n",
    "Aaker, J. (1997). Dimensions of Brand Personality. Journal of marketing research, 347-356.\n",
    "\n",
    "Ackley, Gardner (1961). Say's Law and the Quantity Theory of Money. Macroeconomic Theory. New York: Macmillan.\n",
    "\n",
    "Ahmed, W., Bath, P. and Demartini, G. (2017). Chapter 4 Using Twitter as a Data Source: An Overview of Ethical, Legal, and Methodological Challenges. In: Woodfield, K., (ed.) The Ethics of Online Research. Advances in Research Ethics and Integrity (2),79-107. \n",
    "\n",
    "Booth, N., Matic, J.A. (2011). Mapping and leveraging influencers in social media to shape corporate brand perceptions\", Corporate Communications: An International Journal, 16-3,184-191, https://doi.org/10.1108/13563281111156853 \n",
    "\n",
    "Boyd, D. & Marwick, A. (2011). Social privacy in networked publics: teens’ attitudes, practices, and strategies. Oxford Internet Institute, http://papers.ssrn.com/sol3/papers.cfm?abstract_.\n",
    "\n",
    "Bucher, T. (2012). Want to be on the top? Algorithmic power and the threat of invisibility on Facebook. New Media & Society, 14(7), 1164–1180. https://doi.org/10.1177/1461444812440159\n",
    "\n",
    "Davis, A. (2018). A brief history of Elon Musk's market moving tweets. WIRED. Retrieved from https://www.wired.com/story/elon-musk-twitter-stock-tweets-libel-suit/\n",
    "\n",
    "Developer Agreement and Policy/Developer Agreement(2018). Retrieved from: https://developer.twitter.com/en/developer-terms/agreement-and-policy.html\n",
    "\n",
    "ESOMAR Guidelines for Data Protection / GDPR(2017). Retrieved from: : https://www.esomar.org/uploads/public/knowledge-and-standards/codes-and-guidelines/ESOMAR-Data-Protection-Checklist_September-2017.pdf\n",
    "\n",
    "Ferris, R. (2019). Tesla is down 7% thanks to Elon Musk’s tweets — he’s all but wiped out the gains Tesla got for settling with the SEC. CNBC. Retrieved from https://www.cnbc.com/2018/10/05/tesla-shares-drop-nearly-5percent-after-musk-mocks-sec-on-twitter.html\n",
    "\n",
    "Fleishman, G. (2018). ‘Pedo,’ ‘Private’ and ‘Pravda’: How Elon Musk’s Twitter Posts Are Trouble for Tesla. Fortune. Retrieved from http://fortune.com/2018/08/29/elon-musk-twitter-tesla-stock-pedo-private-pravda-tweet/\n",
    "\n",
    "Get Statuses user_timelines, Developer (2017). Retrieved from https://developer.twitter.com/en/docs/tweets/timelines/api-reference/get-statuses-user_timeline.html \n",
    "\n",
    "Get Statuses/mentions_timelines (2017). Retrieved from https://developer.twitter.com/en/docs/tweets/timelines/api-reference/get-statuses-mentions_timeline.html  \n",
    "\n",
    "Growth in Tesla (2018) Retrieved from https://cleantechnica.com/2018/10/04/25913-growth-in-tesla-sales-in-6-years/ \n",
    "\n",
    "McCracken, Grant (1989), Who Is the Celebrity Endorser? Cultural Foundations of the Endorsement Process, Journal of Consumer Research, 16(3), 310-21.\n",
    "\n",
    "Neate, R. (2019). Elon Musk could face contempt charge over 'inaccurate' Tesla tweet. The Guardian. Retieved from https://www.theguardian.com/technology/2019/feb/25/elon-musk-tesla-judge-contempt-sec\n",
    "\n",
    "Ohnsman, A.( 2019). Elon Musk's Tesla Tweet Puts CEO Role At Risk Again. Forbes. Retrieved from\n",
    "https://www.forbes.com/sites/alanohnsman/2019/02/25/elon-musks-tesla-tweet-puts-ceo-role-at-risk-again/#1a773a556cdb \n",
    "\n",
    "Pickle vs JSON, 2010. Retrieved from https://konstantin.blog/2010/pickle-vs-json-which-is-faster/ \n",
    "\n",
    "Williams, M., Burnap, P. & Sloan, L. (2017). Towards an Ethical Framework for Publishing Twitter Data in Social Research: Taking into Account Users’ Views, Online Context and Algorithmic Estimation, Sociology. 51(6), 1149-1168.\n",
    "\n",
    "Williams,P. & Naumann, E. (2011). Customer satisfaction and business performance: a firm‐level analysis. Journal of Services Marketing, 25(1,) 20-32, https://doi.org/10.1108/08876041111107032 \n",
    "\n",
    "Wolverton, T. (2019). Elon Musk’s tweets make it look like Tesla’s revamped board is still bad at its job — and it could get the company into even more trouble. Business Insider. Retrieved from https://www.businessinsider.nl/elon-musk-twitter-board-of-directors-2019-2/?international=true&r=US\n",
    "\n",
    "Van den Hoven, J., Blaauw, M., Pieters, W., & Warnier, M. (2014). Privacy and information technology.\n"
   ]
  }
 ],
 "metadata": {
  "kernelspec": {
   "display_name": "Python 3",
   "language": "python",
   "name": "python3"
  },
  "language_info": {
   "codemirror_mode": {
    "name": "ipython",
    "version": 3
   },
   "file_extension": ".py",
   "mimetype": "text/x-python",
   "name": "python",
   "nbconvert_exporter": "python",
   "pygments_lexer": "ipython3",
   "version": "3.7.1"
  }
 },
 "nbformat": 4,
 "nbformat_minor": 2
}
